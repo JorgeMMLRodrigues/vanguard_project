{
 "cells": [
  {
   "cell_type": "code",
   "execution_count": 40,
   "metadata": {},
   "outputs": [],
   "source": [
    "import pandas as pd\n",
    "import seaborn as sns\n",
    "import matplotlib.pyplot as plt\n",
    "\n"
   ]
  },
  {
   "cell_type": "code",
   "execution_count": 5,
   "metadata": {},
   "outputs": [
    {
     "name": "stderr",
     "output_type": "stream",
     "text": [
      "<>:1: SyntaxWarning: invalid escape sequence '\\d'\n",
      "<>:2: SyntaxWarning: invalid escape sequence '\\d'\n",
      "<>:3: SyntaxWarning: invalid escape sequence '\\d'\n",
      "<>:4: SyntaxWarning: invalid escape sequence '\\d'\n",
      "<>:1: SyntaxWarning: invalid escape sequence '\\d'\n",
      "<>:2: SyntaxWarning: invalid escape sequence '\\d'\n",
      "<>:3: SyntaxWarning: invalid escape sequence '\\d'\n",
      "<>:4: SyntaxWarning: invalid escape sequence '\\d'\n",
      "C:\\Users\\estif\\AppData\\Local\\Temp\\ipykernel_24552\\3808816630.py:1: SyntaxWarning: invalid escape sequence '\\d'\n",
      "  df_final_demo = pd.read_csv('csv_files\\df_final_demo.csv')\n",
      "C:\\Users\\estif\\AppData\\Local\\Temp\\ipykernel_24552\\3808816630.py:2: SyntaxWarning: invalid escape sequence '\\d'\n",
      "  df_final_experiment_clients = pd.read_csv('csv_files\\df_final_experiment_clients.csv')\n",
      "C:\\Users\\estif\\AppData\\Local\\Temp\\ipykernel_24552\\3808816630.py:3: SyntaxWarning: invalid escape sequence '\\d'\n",
      "  df_final_web_data_pt_1 = pd.read_csv('csv_files\\df_final_web_data_pt_1.csv')\n",
      "C:\\Users\\estif\\AppData\\Local\\Temp\\ipykernel_24552\\3808816630.py:4: SyntaxWarning: invalid escape sequence '\\d'\n",
      "  df_final_web_data_pt_2 = pd.read_csv('csv_files\\df_final_web_data_pt_2.csv')\n"
     ]
    }
   ],
   "source": [
    "df_final_demo = pd.read_csv('csv_files\\df_final_demo.csv')\n",
    "df_final_experiment_clients = pd.read_csv('csv_files\\df_final_experiment_clients.csv')\n",
    "df_final_web_data_pt_1 = pd.read_csv('csv_files\\df_final_web_data_pt_1.csv')\n",
    "df_final_web_data_pt_2 = pd.read_csv('csv_files\\df_final_web_data_pt_2.csv')"
   ]
  },
  {
   "cell_type": "markdown",
   "metadata": {},
   "source": [
    "# Would these changes encourage more clients to complete the process?\n"
   ]
  },
  {
   "cell_type": "markdown",
   "metadata": {},
   "source": [
    " #### Group Hypothesis\n",
    " "
   ]
  },
  {
   "cell_type": "code",
   "execution_count": null,
   "metadata": {},
   "outputs": [],
   "source": [
    "# Could be alot of young people that would be the children of rich parents wich accounts are trustfund accounts"
   ]
  },
  {
   "cell_type": "markdown",
   "metadata": {},
   "source": [
    "### DF Final Demo"
   ]
  },
  {
   "cell_type": "code",
   "execution_count": 6,
   "metadata": {},
   "outputs": [
    {
     "data": {
      "application/vnd.microsoft.datawrangler.viewer.v0+json": {
       "columns": [
        {
         "name": "index",
         "rawType": "int64",
         "type": "integer"
        },
        {
         "name": "client_id",
         "rawType": "int64",
         "type": "integer"
        },
        {
         "name": "clnt_tenure_yr",
         "rawType": "float64",
         "type": "float"
        },
        {
         "name": "clnt_tenure_mnth",
         "rawType": "float64",
         "type": "float"
        },
        {
         "name": "clnt_age",
         "rawType": "float64",
         "type": "float"
        },
        {
         "name": "gendr",
         "rawType": "object",
         "type": "unknown"
        },
        {
         "name": "num_accts",
         "rawType": "float64",
         "type": "float"
        },
        {
         "name": "bal",
         "rawType": "float64",
         "type": "float"
        },
        {
         "name": "calls_6_mnth",
         "rawType": "float64",
         "type": "float"
        },
        {
         "name": "logons_6_mnth",
         "rawType": "float64",
         "type": "float"
        }
       ],
       "conversionMethod": "pd.DataFrame",
       "ref": "f506eb9f-82d0-418f-8597-03dc71ec8798",
       "rows": [
        [
         "0",
         "836976",
         "6.0",
         "73.0",
         "60.5",
         "U",
         "2.0",
         "45105.3",
         "6.0",
         "9.0"
        ],
        [
         "1",
         "2304905",
         "7.0",
         "94.0",
         "58.0",
         "U",
         "2.0",
         "110860.3",
         "6.0",
         "9.0"
        ],
        [
         "2",
         "1439522",
         "5.0",
         "64.0",
         "32.0",
         "U",
         "2.0",
         "52467.78999999999",
         "6.0",
         "9.0"
        ],
        [
         "3",
         "1562045",
         "16.0",
         "198.0",
         "49.0",
         "M",
         "2.0",
         "67454.65",
         "3.0",
         "6.0"
        ],
        [
         "4",
         "5126305",
         "12.0",
         "145.0",
         "33.0",
         "F",
         "2.0",
         "103671.75",
         "0.0",
         "3.0"
        ],
        [
         "5",
         "3727881",
         "5.0",
         "71.0",
         "30.5",
         "U",
         "2.0",
         "23915.6",
         "0.0",
         "3.0"
        ],
        [
         "6",
         "272934",
         "5.0",
         "66.0",
         "58.5",
         "U",
         "2.0",
         "27021.42",
         "2.0",
         "5.0"
        ],
        [
         "7",
         "388801",
         "30.0",
         "361.0",
         "57.5",
         "M",
         "5.0",
         "522498.72",
         "1.0",
         "4.0"
        ],
        [
         "8",
         "285619",
         "30.0",
         "369.0",
         "67.5",
         "M",
         "2.0",
         "299388.72",
         "3.0",
         "6.0"
        ],
        [
         "9",
         "8198645",
         "15.0",
         "189.0",
         "54.5",
         "F",
         "2.0",
         "382303.83",
         "6.0",
         "9.0"
        ],
        [
         "10",
         "8368822",
         "8.0",
         "100.0",
         "34.5",
         "U",
         "2.0",
         "75578.54000000001",
         "0.0",
         "3.0"
        ],
        [
         "11",
         "2537139",
         "8.0",
         "99.0",
         "51.5",
         "U",
         "2.0",
         "135940.68",
         "6.0",
         "9.0"
        ],
        [
         "12",
         "2208717",
         "5.0",
         "67.0",
         "33.0",
         "U",
         "2.0",
         "29782.96",
         "6.0",
         "9.0"
        ],
        [
         "13",
         "2214073",
         "16.0",
         "193.0",
         "62.5",
         "M",
         "3.0",
         "136818.03",
         "6.0",
         "9.0"
        ],
        [
         "14",
         "2368987",
         "5.0",
         "71.0",
         "54.5",
         "U",
         "2.0",
         "44408.87",
         "2.0",
         "5.0"
        ],
        [
         "15",
         "2892152",
         "4.0",
         "58.0",
         "36.0",
         "U",
         "2.0",
         "46815.48",
         "5.0",
         "8.0"
        ],
        [
         "16",
         "4536541",
         "3.0",
         "47.0",
         "74.0",
         "U",
         "2.0",
         "47804.5",
         "1.0",
         "4.0"
        ],
        [
         "17",
         "3788589",
         "10.0",
         "122.0",
         "32.5",
         "M",
         "2.0",
         "30750.76",
         "0.0",
         "3.0"
        ],
        [
         "18",
         "719792",
         "11.0",
         "136.0",
         "31.0",
         "F",
         "2.0",
         "111736.78",
         "5.0",
         "8.0"
        ],
        [
         "19",
         "5904035",
         "8.0",
         "101.0",
         "25.5",
         "U",
         "2.0",
         "27848.76",
         "3.0",
         "6.0"
        ],
        [
         "20",
         "1502049",
         "8.0",
         "100.0",
         "31.0",
         "U",
         "2.0",
         "28952.15",
         "0.0",
         "3.0"
        ],
        [
         "21",
         "6590646",
         "8.0",
         "103.0",
         "42.5",
         "F",
         "3.0",
         "2768726.87",
         "5.0",
         "8.0"
        ],
        [
         "22",
         "7585111",
         "5.0",
         "70.0",
         "42.0",
         "U",
         "3.0",
         "36621.41",
         "1.0",
         "4.0"
        ],
        [
         "23",
         "3638336",
         "12.0",
         "152.0",
         "30.5",
         "M",
         "3.0",
         "54296.67",
         "3.0",
         "6.0"
        ],
        [
         "24",
         "9520009",
         "13.0",
         "160.0",
         "30.0",
         "M",
         "2.0",
         "61062.57",
         "6.0",
         "9.0"
        ],
        [
         "25",
         "1508759",
         "6.0",
         "80.0",
         "58.5",
         "U",
         "2.0",
         "66514.85",
         "4.0",
         "7.0"
        ],
        [
         "26",
         "9381346",
         "7.0",
         "88.0",
         "62.5",
         "U",
         "2.0",
         "272252.76",
         "0.0",
         "3.0"
        ],
        [
         "27",
         "7035604",
         "7.0",
         "86.0",
         "30.5",
         "U",
         "2.0",
         "28175.92",
         "1.0",
         "4.0"
        ],
        [
         "28",
         "3055315",
         "5.0",
         "65.0",
         "34.5",
         "F",
         "2.0",
         "66560.69",
         "1.0",
         "5.0"
        ],
        [
         "29",
         "3350906",
         "5.0",
         "68.0",
         "55.0",
         "U",
         "2.0",
         "88627.18",
         "2.0",
         "5.0"
        ],
        [
         "30",
         "2109862",
         "7.0",
         "93.0",
         "38.0",
         "U",
         "2.0",
         "35917.29",
         "2.0",
         "5.0"
        ],
        [
         "31",
         "1549737",
         "7.0",
         "94.0",
         "68.5",
         "U",
         "2.0",
         "35608.94",
         "1.0",
         "4.0"
        ],
        [
         "32",
         "7474517",
         "6.0",
         "73.0",
         "52.5",
         "U",
         "2.0",
         "53993.47",
         "4.0",
         "7.0"
        ],
        [
         "33",
         "6448014",
         "7.0",
         "85.0",
         "57.5",
         "U",
         "2.0",
         "82787.45999999999",
         "6.0",
         "9.0"
        ],
        [
         "34",
         "6651826",
         "8.0",
         "103.0",
         "34.5",
         "U",
         "2.0",
         "44696.97",
         "0.0",
         "3.0"
        ],
        [
         "35",
         "2305285",
         "14.0",
         "168.0",
         "54.0",
         "M",
         "2.0",
         "132347.89",
         "6.0",
         "9.0"
        ],
        [
         "36",
         "5889920",
         "11.0",
         "142.0",
         "33.0",
         "M",
         "2.0",
         "106249.03",
         "1.0",
         "4.0"
        ],
        [
         "37",
         "3065089",
         "19.0",
         "228.0",
         "63.0",
         "M",
         "2.0",
         "439723.43",
         "6.0",
         "9.0"
        ],
        [
         "38",
         "313570",
         "18.0",
         "223.0",
         "48.0",
         "F",
         "2.0",
         "75124.07",
         "2.0",
         "5.0"
        ],
        [
         "39",
         "9721424",
         "12.0",
         "152.0",
         "32.0",
         "F",
         "2.0",
         "29667.6",
         "0.0",
         "3.0"
        ],
        [
         "40",
         "3753796",
         "25.0",
         "305.0",
         "66.5",
         "F",
         "2.0",
         "214661.75",
         "6.0",
         "9.0"
        ],
        [
         "41",
         "6647577",
         "23.0",
         "286.0",
         "68.0",
         "F",
         "3.0",
         "86005.57",
         "2.0",
         "5.0"
        ],
        [
         "42",
         "6341488",
         "23.0",
         "285.0",
         "65.0",
         "F",
         "2.0",
         "116534.46",
         "5.0",
         "8.0"
        ],
        [
         "43",
         "838619",
         "23.0",
         "280.0",
         "60.5",
         "F",
         "2.0",
         "131309.81",
         "0.0",
         "3.0"
        ],
        [
         "44",
         "2000151",
         "21.0",
         "254.0",
         "38.0",
         "F",
         "2.0",
         "136515.53999999998",
         "6.0",
         "9.0"
        ],
        [
         "45",
         "6579978",
         "21.0",
         "253.0",
         "74.0",
         "M",
         "2.0",
         "71192.58",
         "1.0",
         "4.0"
        ],
        [
         "46",
         "8475126",
         "23.0",
         "278.0",
         "51.0",
         "M",
         "3.0",
         "327091.02",
         "3.0",
         "6.0"
        ],
        [
         "47",
         "7419744",
         "18.0",
         "221.0",
         "49.0",
         "U",
         "2.0",
         "162233.71000000002",
         "0.0",
         "3.0"
        ],
        [
         "48",
         "9796602",
         "18.0",
         "216.0",
         "46.0",
         "F",
         "2.0",
         "25827.39",
         "0.0",
         "3.0"
        ],
        [
         "49",
         "1329260",
         "17.0",
         "212.0",
         "63.5",
         "F",
         "2.0",
         "666138.27",
         "5.0",
         "8.0"
        ]
       ],
       "shape": {
        "columns": 9,
        "rows": 70609
       }
      },
      "text/html": [
       "<div>\n",
       "<style scoped>\n",
       "    .dataframe tbody tr th:only-of-type {\n",
       "        vertical-align: middle;\n",
       "    }\n",
       "\n",
       "    .dataframe tbody tr th {\n",
       "        vertical-align: top;\n",
       "    }\n",
       "\n",
       "    .dataframe thead th {\n",
       "        text-align: right;\n",
       "    }\n",
       "</style>\n",
       "<table border=\"1\" class=\"dataframe\">\n",
       "  <thead>\n",
       "    <tr style=\"text-align: right;\">\n",
       "      <th></th>\n",
       "      <th>client_id</th>\n",
       "      <th>clnt_tenure_yr</th>\n",
       "      <th>clnt_tenure_mnth</th>\n",
       "      <th>clnt_age</th>\n",
       "      <th>gendr</th>\n",
       "      <th>num_accts</th>\n",
       "      <th>bal</th>\n",
       "      <th>calls_6_mnth</th>\n",
       "      <th>logons_6_mnth</th>\n",
       "    </tr>\n",
       "  </thead>\n",
       "  <tbody>\n",
       "    <tr>\n",
       "      <th>0</th>\n",
       "      <td>836976</td>\n",
       "      <td>6.0</td>\n",
       "      <td>73.0</td>\n",
       "      <td>60.5</td>\n",
       "      <td>U</td>\n",
       "      <td>2.0</td>\n",
       "      <td>45105.30</td>\n",
       "      <td>6.0</td>\n",
       "      <td>9.0</td>\n",
       "    </tr>\n",
       "    <tr>\n",
       "      <th>1</th>\n",
       "      <td>2304905</td>\n",
       "      <td>7.0</td>\n",
       "      <td>94.0</td>\n",
       "      <td>58.0</td>\n",
       "      <td>U</td>\n",
       "      <td>2.0</td>\n",
       "      <td>110860.30</td>\n",
       "      <td>6.0</td>\n",
       "      <td>9.0</td>\n",
       "    </tr>\n",
       "    <tr>\n",
       "      <th>2</th>\n",
       "      <td>1439522</td>\n",
       "      <td>5.0</td>\n",
       "      <td>64.0</td>\n",
       "      <td>32.0</td>\n",
       "      <td>U</td>\n",
       "      <td>2.0</td>\n",
       "      <td>52467.79</td>\n",
       "      <td>6.0</td>\n",
       "      <td>9.0</td>\n",
       "    </tr>\n",
       "    <tr>\n",
       "      <th>3</th>\n",
       "      <td>1562045</td>\n",
       "      <td>16.0</td>\n",
       "      <td>198.0</td>\n",
       "      <td>49.0</td>\n",
       "      <td>M</td>\n",
       "      <td>2.0</td>\n",
       "      <td>67454.65</td>\n",
       "      <td>3.0</td>\n",
       "      <td>6.0</td>\n",
       "    </tr>\n",
       "    <tr>\n",
       "      <th>4</th>\n",
       "      <td>5126305</td>\n",
       "      <td>12.0</td>\n",
       "      <td>145.0</td>\n",
       "      <td>33.0</td>\n",
       "      <td>F</td>\n",
       "      <td>2.0</td>\n",
       "      <td>103671.75</td>\n",
       "      <td>0.0</td>\n",
       "      <td>3.0</td>\n",
       "    </tr>\n",
       "    <tr>\n",
       "      <th>...</th>\n",
       "      <td>...</td>\n",
       "      <td>...</td>\n",
       "      <td>...</td>\n",
       "      <td>...</td>\n",
       "      <td>...</td>\n",
       "      <td>...</td>\n",
       "      <td>...</td>\n",
       "      <td>...</td>\n",
       "      <td>...</td>\n",
       "    </tr>\n",
       "    <tr>\n",
       "      <th>70604</th>\n",
       "      <td>7993686</td>\n",
       "      <td>4.0</td>\n",
       "      <td>56.0</td>\n",
       "      <td>38.5</td>\n",
       "      <td>U</td>\n",
       "      <td>3.0</td>\n",
       "      <td>1411062.68</td>\n",
       "      <td>5.0</td>\n",
       "      <td>5.0</td>\n",
       "    </tr>\n",
       "    <tr>\n",
       "      <th>70605</th>\n",
       "      <td>8981690</td>\n",
       "      <td>12.0</td>\n",
       "      <td>148.0</td>\n",
       "      <td>31.0</td>\n",
       "      <td>M</td>\n",
       "      <td>2.0</td>\n",
       "      <td>101867.07</td>\n",
       "      <td>6.0</td>\n",
       "      <td>6.0</td>\n",
       "    </tr>\n",
       "    <tr>\n",
       "      <th>70606</th>\n",
       "      <td>333913</td>\n",
       "      <td>16.0</td>\n",
       "      <td>198.0</td>\n",
       "      <td>61.5</td>\n",
       "      <td>F</td>\n",
       "      <td>2.0</td>\n",
       "      <td>40745.00</td>\n",
       "      <td>3.0</td>\n",
       "      <td>3.0</td>\n",
       "    </tr>\n",
       "    <tr>\n",
       "      <th>70607</th>\n",
       "      <td>1573142</td>\n",
       "      <td>21.0</td>\n",
       "      <td>255.0</td>\n",
       "      <td>68.0</td>\n",
       "      <td>M</td>\n",
       "      <td>3.0</td>\n",
       "      <td>475114.69</td>\n",
       "      <td>4.0</td>\n",
       "      <td>4.0</td>\n",
       "    </tr>\n",
       "    <tr>\n",
       "      <th>70608</th>\n",
       "      <td>5602139</td>\n",
       "      <td>21.0</td>\n",
       "      <td>254.0</td>\n",
       "      <td>59.5</td>\n",
       "      <td>F</td>\n",
       "      <td>3.0</td>\n",
       "      <td>157498.73</td>\n",
       "      <td>7.0</td>\n",
       "      <td>7.0</td>\n",
       "    </tr>\n",
       "  </tbody>\n",
       "</table>\n",
       "<p>70609 rows × 9 columns</p>\n",
       "</div>"
      ],
      "text/plain": [
       "       client_id  clnt_tenure_yr  clnt_tenure_mnth  clnt_age gendr  num_accts  \\\n",
       "0         836976             6.0              73.0      60.5     U        2.0   \n",
       "1        2304905             7.0              94.0      58.0     U        2.0   \n",
       "2        1439522             5.0              64.0      32.0     U        2.0   \n",
       "3        1562045            16.0             198.0      49.0     M        2.0   \n",
       "4        5126305            12.0             145.0      33.0     F        2.0   \n",
       "...          ...             ...               ...       ...   ...        ...   \n",
       "70604    7993686             4.0              56.0      38.5     U        3.0   \n",
       "70605    8981690            12.0             148.0      31.0     M        2.0   \n",
       "70606     333913            16.0             198.0      61.5     F        2.0   \n",
       "70607    1573142            21.0             255.0      68.0     M        3.0   \n",
       "70608    5602139            21.0             254.0      59.5     F        3.0   \n",
       "\n",
       "              bal  calls_6_mnth  logons_6_mnth  \n",
       "0        45105.30           6.0            9.0  \n",
       "1       110860.30           6.0            9.0  \n",
       "2        52467.79           6.0            9.0  \n",
       "3        67454.65           3.0            6.0  \n",
       "4       103671.75           0.0            3.0  \n",
       "...           ...           ...            ...  \n",
       "70604  1411062.68           5.0            5.0  \n",
       "70605   101867.07           6.0            6.0  \n",
       "70606    40745.00           3.0            3.0  \n",
       "70607   475114.69           4.0            4.0  \n",
       "70608   157498.73           7.0            7.0  \n",
       "\n",
       "[70609 rows x 9 columns]"
      ]
     },
     "execution_count": 6,
     "metadata": {},
     "output_type": "execute_result"
    }
   ],
   "source": [
    "df_final_demo"
   ]
  },
  {
   "cell_type": "code",
   "execution_count": 8,
   "metadata": {},
   "outputs": [
    {
     "data": {
      "text/plain": [
       "'\\n\\nclient_id: Every client’s unique ID. --------------------------------------------------------------\\n\\nvariation: Indicates if a client was part of the experiment.---------------------------------------\\n\\nvisitor_id: A unique ID for each client-device combination.----------------------------------------\\n\\nvisit_id: A unique ID for each web visit/session.\\n\\nprocess_step: Marks each step in the digital process.\\n\\ndate_time: Timestamp of each web activity.\\n\\nclnt_tenure_yr: Represents how long the client has been with Vanguard, measured in years.\\n\\nclnt_tenure_mnth: Further breaks down the client’s tenure with Vanguard in months.\\n\\nclnt_age: Indicates the age of the client.\\n\\ngendr: Specifies the client’s gender.\\n\\nnum_accts: Denotes the number of accounts the client holds with Vanguard.\\n\\nbal: Gives the total balance spread across all accounts for a particular client.\\n\\ncalls_6_mnth: Records the number of times the client reached out over a call in the past six months.\\n\\nlogons_6_mnth: Reflects the frequency with which the client logged onto Vanguard’s platform over the last six months.\\n\\n\\n'"
      ]
     },
     "execution_count": 8,
     "metadata": {},
     "output_type": "execute_result"
    }
   ],
   "source": [
    "\"\"\"\n",
    "\n",
    "client_id: Every client’s unique ID. --------------------------------------------------------------\n",
    "\n",
    "variation: Indicates if a client was part of the experiment.---------------------------------------\n",
    "\n",
    "visitor_id: A unique ID for each client-device combination.----------------------------------------\n",
    "\n",
    "visit_id: A unique ID for each web visit/session.\n",
    "\n",
    "process_step: Marks each step in the digital process.\n",
    "\n",
    "date_time: Timestamp of each web activity.\n",
    "\n",
    "clnt_tenure_yr: Represents how long the client has been with Vanguard, measured in years.\n",
    "\n",
    "clnt_tenure_mnth: Further breaks down the client’s tenure with Vanguard in months.\n",
    "\n",
    "clnt_age: Indicates the age of the client.\n",
    "\n",
    "gendr: Specifies the client’s gender.\n",
    "\n",
    "num_accts: Denotes the number of accounts the client holds with Vanguard.\n",
    "\n",
    "bal: Gives the total balance spread across all accounts for a particular client.\n",
    "\n",
    "calls_6_mnth: Records the number of times the client reached out over a call in the past six months.\n",
    "\n",
    "logons_6_mnth: Reflects the frequency with which the client logged onto Vanguard’s platform over the last six months.\n",
    "\n",
    "\n",
    "\"\"\""
   ]
  },
  {
   "cell_type": "markdown",
   "metadata": {},
   "source": [
    "#### Day 1"
   ]
  },
  {
   "cell_type": "code",
   "execution_count": 9,
   "metadata": {},
   "outputs": [
    {
     "data": {
      "text/plain": [
       "'\\nWho are the primary clients using this online process?\\nAre the primary clients younger or older, new or long-standing?\\n\\n'"
      ]
     },
     "execution_count": 9,
     "metadata": {},
     "output_type": "execute_result"
    }
   ],
   "source": [
    "\"\"\"\n",
    "Who are the primary clients using this online process?\n",
    "Are the primary clients younger or older, new or long-standing?\n",
    "\n",
    "\"\"\""
   ]
  },
  {
   "cell_type": "code",
   "execution_count": null,
   "metadata": {},
   "outputs": [],
   "source": [
    "# Create categorical columns for age groups (younger \"<35\", older \">35\") and tenure groups (new \"<2 years\", established \">2 years\").\n",
    "# Check the age distributution for the 10% of clients with the highest balance"
   ]
  },
  {
   "cell_type": "code",
   "execution_count": null,
   "metadata": {},
   "outputs": [],
   "source": [
    "# probably younger clients visit the platform more often\n",
    "# probably older clients with more accounts call more often\n",
    "# The number of clients that have 90 % of the total bank balance is probably older clients"
   ]
  },
  {
   "cell_type": "code",
   "execution_count": 56,
   "metadata": {},
   "outputs": [],
   "source": [
    "df_client_demo_eda_day1 = df_final_demo[['client_id', 'clnt_age', 'gendr', 'clnt_tenure_mnth', 'bal', 'calls_6_mnth', 'logons_6_mnth']].copy()"
   ]
  },
  {
   "cell_type": "code",
   "execution_count": 61,
   "metadata": {},
   "outputs": [],
   "source": [
    "df_client_demo_eda_day1['age_group'] = pd.cut(df_client_demo_eda_day1['clnt_age'], bins=[0, 35, 100], labels=['younger', 'older'])"
   ]
  },
  {
   "cell_type": "code",
   "execution_count": 60,
   "metadata": {},
   "outputs": [
    {
     "data": {
      "application/vnd.microsoft.datawrangler.viewer.v0+json": {
       "columns": [
        {
         "name": "index",
         "rawType": "int64",
         "type": "integer"
        },
        {
         "name": "client_id",
         "rawType": "int64",
         "type": "integer"
        },
        {
         "name": "clnt_age",
         "rawType": "float64",
         "type": "float"
        },
        {
         "name": "gendr",
         "rawType": "object",
         "type": "unknown"
        },
        {
         "name": "clnt_tenure_mnth",
         "rawType": "float64",
         "type": "float"
        },
        {
         "name": "bal",
         "rawType": "float64",
         "type": "float"
        },
        {
         "name": "calls_6_mnth",
         "rawType": "float64",
         "type": "float"
        },
        {
         "name": "logons_6_mnth",
         "rawType": "float64",
         "type": "float"
        },
        {
         "name": "age_group",
         "rawType": "category",
         "type": "unknown"
        }
       ],
       "conversionMethod": "pd.DataFrame",
       "ref": "47b2d082-5477-4c63-a5df-16d0bd51970f",
       "rows": [
        [
         "0",
         "836976",
         "60.5",
         "U",
         "73.0",
         "45105.3",
         "6.0",
         "9.0",
         "older"
        ],
        [
         "1",
         "2304905",
         "58.0",
         "U",
         "94.0",
         "110860.3",
         "6.0",
         "9.0",
         "older"
        ],
        [
         "2",
         "1439522",
         "32.0",
         "U",
         "64.0",
         "52467.78999999999",
         "6.0",
         "9.0",
         "younger"
        ],
        [
         "3",
         "1562045",
         "49.0",
         "M",
         "198.0",
         "67454.65",
         "3.0",
         "6.0",
         "older"
        ],
        [
         "4",
         "5126305",
         "33.0",
         "F",
         "145.0",
         "103671.75",
         "0.0",
         "3.0",
         "younger"
        ],
        [
         "5",
         "3727881",
         "30.5",
         "U",
         "71.0",
         "23915.6",
         "0.0",
         "3.0",
         "younger"
        ],
        [
         "6",
         "272934",
         "58.5",
         "U",
         "66.0",
         "27021.42",
         "2.0",
         "5.0",
         "older"
        ],
        [
         "7",
         "388801",
         "57.5",
         "M",
         "361.0",
         "522498.72",
         "1.0",
         "4.0",
         "older"
        ],
        [
         "8",
         "285619",
         "67.5",
         "M",
         "369.0",
         "299388.72",
         "3.0",
         "6.0",
         "older"
        ],
        [
         "9",
         "8198645",
         "54.5",
         "F",
         "189.0",
         "382303.83",
         "6.0",
         "9.0",
         "older"
        ],
        [
         "10",
         "8368822",
         "34.5",
         "U",
         "100.0",
         "75578.54000000001",
         "0.0",
         "3.0",
         "younger"
        ],
        [
         "11",
         "2537139",
         "51.5",
         "U",
         "99.0",
         "135940.68",
         "6.0",
         "9.0",
         "older"
        ],
        [
         "12",
         "2208717",
         "33.0",
         "U",
         "67.0",
         "29782.96",
         "6.0",
         "9.0",
         "younger"
        ],
        [
         "13",
         "2214073",
         "62.5",
         "M",
         "193.0",
         "136818.03",
         "6.0",
         "9.0",
         "older"
        ],
        [
         "14",
         "2368987",
         "54.5",
         "U",
         "71.0",
         "44408.87",
         "2.0",
         "5.0",
         "older"
        ],
        [
         "15",
         "2892152",
         "36.0",
         "U",
         "58.0",
         "46815.48",
         "5.0",
         "8.0",
         "older"
        ],
        [
         "16",
         "4536541",
         "74.0",
         "U",
         "47.0",
         "47804.5",
         "1.0",
         "4.0",
         "older"
        ],
        [
         "17",
         "3788589",
         "32.5",
         "M",
         "122.0",
         "30750.76",
         "0.0",
         "3.0",
         "younger"
        ],
        [
         "18",
         "719792",
         "31.0",
         "F",
         "136.0",
         "111736.78",
         "5.0",
         "8.0",
         "younger"
        ],
        [
         "19",
         "5904035",
         "25.5",
         "U",
         "101.0",
         "27848.76",
         "3.0",
         "6.0",
         "younger"
        ],
        [
         "20",
         "1502049",
         "31.0",
         "U",
         "100.0",
         "28952.15",
         "0.0",
         "3.0",
         "younger"
        ],
        [
         "21",
         "6590646",
         "42.5",
         "F",
         "103.0",
         "2768726.87",
         "5.0",
         "8.0",
         "older"
        ],
        [
         "22",
         "7585111",
         "42.0",
         "U",
         "70.0",
         "36621.41",
         "1.0",
         "4.0",
         "older"
        ],
        [
         "23",
         "3638336",
         "30.5",
         "M",
         "152.0",
         "54296.67",
         "3.0",
         "6.0",
         "younger"
        ],
        [
         "24",
         "9520009",
         "30.0",
         "M",
         "160.0",
         "61062.57",
         "6.0",
         "9.0",
         "younger"
        ],
        [
         "25",
         "1508759",
         "58.5",
         "U",
         "80.0",
         "66514.85",
         "4.0",
         "7.0",
         "older"
        ],
        [
         "26",
         "9381346",
         "62.5",
         "U",
         "88.0",
         "272252.76",
         "0.0",
         "3.0",
         "older"
        ],
        [
         "27",
         "7035604",
         "30.5",
         "U",
         "86.0",
         "28175.92",
         "1.0",
         "4.0",
         "younger"
        ],
        [
         "28",
         "3055315",
         "34.5",
         "F",
         "65.0",
         "66560.69",
         "1.0",
         "5.0",
         "younger"
        ],
        [
         "29",
         "3350906",
         "55.0",
         "U",
         "68.0",
         "88627.18",
         "2.0",
         "5.0",
         "older"
        ],
        [
         "30",
         "2109862",
         "38.0",
         "U",
         "93.0",
         "35917.29",
         "2.0",
         "5.0",
         "older"
        ],
        [
         "31",
         "1549737",
         "68.5",
         "U",
         "94.0",
         "35608.94",
         "1.0",
         "4.0",
         "older"
        ],
        [
         "32",
         "7474517",
         "52.5",
         "U",
         "73.0",
         "53993.47",
         "4.0",
         "7.0",
         "older"
        ],
        [
         "33",
         "6448014",
         "57.5",
         "U",
         "85.0",
         "82787.45999999999",
         "6.0",
         "9.0",
         "older"
        ],
        [
         "34",
         "6651826",
         "34.5",
         "U",
         "103.0",
         "44696.97",
         "0.0",
         "3.0",
         "younger"
        ],
        [
         "35",
         "2305285",
         "54.0",
         "M",
         "168.0",
         "132347.89",
         "6.0",
         "9.0",
         "older"
        ],
        [
         "36",
         "5889920",
         "33.0",
         "M",
         "142.0",
         "106249.03",
         "1.0",
         "4.0",
         "younger"
        ],
        [
         "37",
         "3065089",
         "63.0",
         "M",
         "228.0",
         "439723.43",
         "6.0",
         "9.0",
         "older"
        ],
        [
         "38",
         "313570",
         "48.0",
         "F",
         "223.0",
         "75124.07",
         "2.0",
         "5.0",
         "older"
        ],
        [
         "39",
         "9721424",
         "32.0",
         "F",
         "152.0",
         "29667.6",
         "0.0",
         "3.0",
         "younger"
        ],
        [
         "40",
         "3753796",
         "66.5",
         "F",
         "305.0",
         "214661.75",
         "6.0",
         "9.0",
         "older"
        ],
        [
         "41",
         "6647577",
         "68.0",
         "F",
         "286.0",
         "86005.57",
         "2.0",
         "5.0",
         "older"
        ],
        [
         "42",
         "6341488",
         "65.0",
         "F",
         "285.0",
         "116534.46",
         "5.0",
         "8.0",
         "older"
        ],
        [
         "43",
         "838619",
         "60.5",
         "F",
         "280.0",
         "131309.81",
         "0.0",
         "3.0",
         "older"
        ],
        [
         "44",
         "2000151",
         "38.0",
         "F",
         "254.0",
         "136515.53999999998",
         "6.0",
         "9.0",
         "older"
        ],
        [
         "45",
         "6579978",
         "74.0",
         "M",
         "253.0",
         "71192.58",
         "1.0",
         "4.0",
         "older"
        ],
        [
         "46",
         "8475126",
         "51.0",
         "M",
         "278.0",
         "327091.02",
         "3.0",
         "6.0",
         "older"
        ],
        [
         "47",
         "7419744",
         "49.0",
         "U",
         "221.0",
         "162233.71000000002",
         "0.0",
         "3.0",
         "older"
        ],
        [
         "48",
         "9796602",
         "46.0",
         "F",
         "216.0",
         "25827.39",
         "0.0",
         "3.0",
         "older"
        ],
        [
         "49",
         "1329260",
         "63.5",
         "F",
         "212.0",
         "666138.27",
         "5.0",
         "8.0",
         "older"
        ]
       ],
       "shape": {
        "columns": 8,
        "rows": 70609
       }
      },
      "text/html": [
       "<div>\n",
       "<style scoped>\n",
       "    .dataframe tbody tr th:only-of-type {\n",
       "        vertical-align: middle;\n",
       "    }\n",
       "\n",
       "    .dataframe tbody tr th {\n",
       "        vertical-align: top;\n",
       "    }\n",
       "\n",
       "    .dataframe thead th {\n",
       "        text-align: right;\n",
       "    }\n",
       "</style>\n",
       "<table border=\"1\" class=\"dataframe\">\n",
       "  <thead>\n",
       "    <tr style=\"text-align: right;\">\n",
       "      <th></th>\n",
       "      <th>client_id</th>\n",
       "      <th>clnt_age</th>\n",
       "      <th>gendr</th>\n",
       "      <th>clnt_tenure_mnth</th>\n",
       "      <th>bal</th>\n",
       "      <th>calls_6_mnth</th>\n",
       "      <th>logons_6_mnth</th>\n",
       "      <th>age_group</th>\n",
       "    </tr>\n",
       "  </thead>\n",
       "  <tbody>\n",
       "    <tr>\n",
       "      <th>0</th>\n",
       "      <td>836976</td>\n",
       "      <td>60.5</td>\n",
       "      <td>U</td>\n",
       "      <td>73.0</td>\n",
       "      <td>45105.30</td>\n",
       "      <td>6.0</td>\n",
       "      <td>9.0</td>\n",
       "      <td>older</td>\n",
       "    </tr>\n",
       "    <tr>\n",
       "      <th>1</th>\n",
       "      <td>2304905</td>\n",
       "      <td>58.0</td>\n",
       "      <td>U</td>\n",
       "      <td>94.0</td>\n",
       "      <td>110860.30</td>\n",
       "      <td>6.0</td>\n",
       "      <td>9.0</td>\n",
       "      <td>older</td>\n",
       "    </tr>\n",
       "    <tr>\n",
       "      <th>2</th>\n",
       "      <td>1439522</td>\n",
       "      <td>32.0</td>\n",
       "      <td>U</td>\n",
       "      <td>64.0</td>\n",
       "      <td>52467.79</td>\n",
       "      <td>6.0</td>\n",
       "      <td>9.0</td>\n",
       "      <td>younger</td>\n",
       "    </tr>\n",
       "    <tr>\n",
       "      <th>3</th>\n",
       "      <td>1562045</td>\n",
       "      <td>49.0</td>\n",
       "      <td>M</td>\n",
       "      <td>198.0</td>\n",
       "      <td>67454.65</td>\n",
       "      <td>3.0</td>\n",
       "      <td>6.0</td>\n",
       "      <td>older</td>\n",
       "    </tr>\n",
       "    <tr>\n",
       "      <th>4</th>\n",
       "      <td>5126305</td>\n",
       "      <td>33.0</td>\n",
       "      <td>F</td>\n",
       "      <td>145.0</td>\n",
       "      <td>103671.75</td>\n",
       "      <td>0.0</td>\n",
       "      <td>3.0</td>\n",
       "      <td>younger</td>\n",
       "    </tr>\n",
       "    <tr>\n",
       "      <th>...</th>\n",
       "      <td>...</td>\n",
       "      <td>...</td>\n",
       "      <td>...</td>\n",
       "      <td>...</td>\n",
       "      <td>...</td>\n",
       "      <td>...</td>\n",
       "      <td>...</td>\n",
       "      <td>...</td>\n",
       "    </tr>\n",
       "    <tr>\n",
       "      <th>70604</th>\n",
       "      <td>7993686</td>\n",
       "      <td>38.5</td>\n",
       "      <td>U</td>\n",
       "      <td>56.0</td>\n",
       "      <td>1411062.68</td>\n",
       "      <td>5.0</td>\n",
       "      <td>5.0</td>\n",
       "      <td>older</td>\n",
       "    </tr>\n",
       "    <tr>\n",
       "      <th>70605</th>\n",
       "      <td>8981690</td>\n",
       "      <td>31.0</td>\n",
       "      <td>M</td>\n",
       "      <td>148.0</td>\n",
       "      <td>101867.07</td>\n",
       "      <td>6.0</td>\n",
       "      <td>6.0</td>\n",
       "      <td>younger</td>\n",
       "    </tr>\n",
       "    <tr>\n",
       "      <th>70606</th>\n",
       "      <td>333913</td>\n",
       "      <td>61.5</td>\n",
       "      <td>F</td>\n",
       "      <td>198.0</td>\n",
       "      <td>40745.00</td>\n",
       "      <td>3.0</td>\n",
       "      <td>3.0</td>\n",
       "      <td>older</td>\n",
       "    </tr>\n",
       "    <tr>\n",
       "      <th>70607</th>\n",
       "      <td>1573142</td>\n",
       "      <td>68.0</td>\n",
       "      <td>M</td>\n",
       "      <td>255.0</td>\n",
       "      <td>475114.69</td>\n",
       "      <td>4.0</td>\n",
       "      <td>4.0</td>\n",
       "      <td>older</td>\n",
       "    </tr>\n",
       "    <tr>\n",
       "      <th>70608</th>\n",
       "      <td>5602139</td>\n",
       "      <td>59.5</td>\n",
       "      <td>F</td>\n",
       "      <td>254.0</td>\n",
       "      <td>157498.73</td>\n",
       "      <td>7.0</td>\n",
       "      <td>7.0</td>\n",
       "      <td>older</td>\n",
       "    </tr>\n",
       "  </tbody>\n",
       "</table>\n",
       "<p>70609 rows × 8 columns</p>\n",
       "</div>"
      ],
      "text/plain": [
       "       client_id  clnt_age gendr  clnt_tenure_mnth         bal  calls_6_mnth  \\\n",
       "0         836976      60.5     U              73.0    45105.30           6.0   \n",
       "1        2304905      58.0     U              94.0   110860.30           6.0   \n",
       "2        1439522      32.0     U              64.0    52467.79           6.0   \n",
       "3        1562045      49.0     M             198.0    67454.65           3.0   \n",
       "4        5126305      33.0     F             145.0   103671.75           0.0   \n",
       "...          ...       ...   ...               ...         ...           ...   \n",
       "70604    7993686      38.5     U              56.0  1411062.68           5.0   \n",
       "70605    8981690      31.0     M             148.0   101867.07           6.0   \n",
       "70606     333913      61.5     F             198.0    40745.00           3.0   \n",
       "70607    1573142      68.0     M             255.0   475114.69           4.0   \n",
       "70608    5602139      59.5     F             254.0   157498.73           7.0   \n",
       "\n",
       "       logons_6_mnth age_group  \n",
       "0                9.0     older  \n",
       "1                9.0     older  \n",
       "2                9.0   younger  \n",
       "3                6.0     older  \n",
       "4                3.0   younger  \n",
       "...              ...       ...  \n",
       "70604            5.0     older  \n",
       "70605            6.0   younger  \n",
       "70606            3.0     older  \n",
       "70607            4.0     older  \n",
       "70608            7.0     older  \n",
       "\n",
       "[70609 rows x 8 columns]"
      ]
     },
     "execution_count": 60,
     "metadata": {},
     "output_type": "execute_result"
    }
   ],
   "source": [
    "df_client_demo_eda_day1[df_client_demo_eda_day1.columns[df_client_demo_eda_day1.isnull().mean() < 0.8]]"
   ]
  },
  {
   "cell_type": "code",
   "execution_count": 29,
   "metadata": {},
   "outputs": [
    {
     "data": {
      "text/plain": [
       "count    70595.000000\n",
       "mean       150.659367\n",
       "std         82.089854\n",
       "min         33.000000\n",
       "25%         82.000000\n",
       "50%        136.000000\n",
       "75%        192.000000\n",
       "max        749.000000\n",
       "Name: clnt_tenure_mnth, dtype: float64"
      ]
     },
     "execution_count": 29,
     "metadata": {},
     "output_type": "execute_result"
    }
   ],
   "source": [
    "df_client_demo_eda_day1['clnt_tenure_mnth'].describe()"
   ]
  },
  {
   "cell_type": "code",
   "execution_count": 27,
   "metadata": {},
   "outputs": [
    {
     "data": {
      "text/plain": [
       "10408896763.08"
      ]
     },
     "execution_count": 27,
     "metadata": {},
     "output_type": "execute_result"
    }
   ],
   "source": [
    "df_client_demo_eda_day1['bal'].sum()"
   ]
  },
  {
   "cell_type": "code",
   "execution_count": null,
   "metadata": {},
   "outputs": [
    {
     "data": {
      "image/png": "[encoded data removed]",
      "text/plain": [
       "<Figure size 1000x600 with 1 Axes>"
      ]
     },
     "metadata": {},
     "output_type": "display_data"
    }
   ],
   "source": [
    "# scatter plot with tenrue and balance\n",
    "plt.figure(figsize=(10, 6))\n",
    "sns.scatterplot(\n",
    "    data=df_client_demo_eda_day1,\n",
    "    x='clnt_tenure_mnth',\n",
    "    y='bal',\n",
    "    hue='age_group',        \n",
    "    palette='Set1',        \n",
    "    alpha=0.4,             \n",
    "    s=20                  \n",
    ")\n",
    "\n",
    "plt.title('Client Tenure vs. Balance by Age Group')\n",
    "plt.xlabel('Client Tenure (Months)')\n",
    "plt.ylabel('Balance')\n",
    "plt.legend(title='Age Group', bbox_to_anchor=(1.05, 1), loc='upper left')  # Put legend outside\n",
    "plt.tight_layout()\n",
    "plt.show()"
   ]
  },
  {
   "cell_type": "code",
   "execution_count": 48,
   "metadata": {},
   "outputs": [
    {
     "data": {
      "text/plain": [
       "age_group\n",
       "older      49479\n",
       "younger    21115\n",
       "Name: count, dtype: int64"
      ]
     },
     "execution_count": 48,
     "metadata": {},
     "output_type": "execute_result"
    }
   ],
   "source": [
    "df_client_demo_eda_day1['age_group'].value_counts()"
   ]
  },
  {
   "cell_type": "code",
   "execution_count": 55,
   "metadata": {},
   "outputs": [
    {
     "data": {
      "image/png": "[encoded data removed]",
      "text/plain": [
       "<Figure size 1000x600 with 1 Axes>"
      ]
     },
     "metadata": {},
     "output_type": "display_data"
    }
   ],
   "source": [
    "# age_group, logging in, calling\n",
    "\n",
    "plt.figure(figsize=(10, 6))\n",
    "sns.barplot(\n",
    "    data=df_client_demo_eda_day1,\n",
    "    x='logons_6_mnth',\n",
    "    y='calls_6_mnth',\n",
    "    hue='age_group',\n",
    "    palette='Set1'\n",
    ")\n",
    "\n",
    "plt.title('Calls vs. Logins by Age Group')\n",
    "plt.xlabel('Logons (Last 6 Months)')\n",
    "plt.ylabel('Calls (Last 6 Months)')\n",
    "plt.legend(title='Age Group', bbox_to_anchor=(1.05, 1), loc='upper left')  # Place legend outside\n",
    "plt.tight_layout()\n",
    "plt.show()\n"
   ]
  },
  {
   "cell_type": "code",
   "execution_count": null,
   "metadata": {},
   "outputs": [],
   "source": [
    "# client_id per Logings\n",
    "# 1 - define description of the collumn logins\n",
    "# 2 - destermine right primary client based on the number of logins\n",
    "# 3 - determine all the characteristics of the primary client ( younger, older, tenure, balance)"
   ]
  },
  {
   "cell_type": "code",
   "execution_count": 63,
   "metadata": {},
   "outputs": [
    {
     "data": {
      "text/plain": [
       "count    70595.000000\n",
       "mean         5.566740\n",
       "std          2.353286\n",
       "min          1.000000\n",
       "25%          4.000000\n",
       "50%          5.000000\n",
       "75%          7.000000\n",
       "max          9.000000\n",
       "Name: logons_6_mnth, dtype: float64"
      ]
     },
     "execution_count": 63,
     "metadata": {},
     "output_type": "execute_result"
    }
   ],
   "source": [
    "df_client_demo_eda_day1['logons_6_mnth'].describe()"
   ]
  },
  {
   "cell_type": "code",
   "execution_count": null,
   "metadata": {},
   "outputs": [],
   "source": [
    "# primary clients that have a logging rate of 7 and above per 6 month are our primary clients"
   ]
  },
  {
   "cell_type": "code",
   "execution_count": 64,
   "metadata": {},
   "outputs": [],
   "source": [
    "df_client_demo_eda_primeclient_day1 = df_client_demo_eda_day1[df_client_demo_eda_day1['logons_6_mnth'] >= 7].copy()"
   ]
  },
  {
   "cell_type": "code",
   "execution_count": 65,
   "metadata": {},
   "outputs": [
    {
     "data": {
      "application/vnd.microsoft.datawrangler.viewer.v0+json": {
       "columns": [
        {
         "name": "index",
         "rawType": "int64",
         "type": "integer"
        },
        {
         "name": "client_id",
         "rawType": "int64",
         "type": "integer"
        },
        {
         "name": "clnt_age",
         "rawType": "float64",
         "type": "float"
        },
        {
         "name": "gendr",
         "rawType": "object",
         "type": "string"
        },
        {
         "name": "clnt_tenure_mnth",
         "rawType": "float64",
         "type": "float"
        },
        {
         "name": "bal",
         "rawType": "float64",
         "type": "float"
        },
        {
         "name": "calls_6_mnth",
         "rawType": "float64",
         "type": "float"
        },
        {
         "name": "logons_6_mnth",
         "rawType": "float64",
         "type": "float"
        },
        {
         "name": "age_group",
         "rawType": "category",
         "type": "unknown"
        }
       ],
       "conversionMethod": "pd.DataFrame",
       "ref": "9ccc33da-30ea-42c8-9b1a-e964b6905763",
       "rows": [
        [
         "0",
         "836976",
         "60.5",
         "U",
         "73.0",
         "45105.3",
         "6.0",
         "9.0",
         "older"
        ],
        [
         "1",
         "2304905",
         "58.0",
         "U",
         "94.0",
         "110860.3",
         "6.0",
         "9.0",
         "older"
        ],
        [
         "2",
         "1439522",
         "32.0",
         "U",
         "64.0",
         "52467.78999999999",
         "6.0",
         "9.0",
         "younger"
        ],
        [
         "9",
         "8198645",
         "54.5",
         "F",
         "189.0",
         "382303.83",
         "6.0",
         "9.0",
         "older"
        ],
        [
         "11",
         "2537139",
         "51.5",
         "U",
         "99.0",
         "135940.68",
         "6.0",
         "9.0",
         "older"
        ],
        [
         "12",
         "2208717",
         "33.0",
         "U",
         "67.0",
         "29782.96",
         "6.0",
         "9.0",
         "younger"
        ],
        [
         "13",
         "2214073",
         "62.5",
         "M",
         "193.0",
         "136818.03",
         "6.0",
         "9.0",
         "older"
        ],
        [
         "15",
         "2892152",
         "36.0",
         "U",
         "58.0",
         "46815.48",
         "5.0",
         "8.0",
         "older"
        ],
        [
         "18",
         "719792",
         "31.0",
         "F",
         "136.0",
         "111736.78",
         "5.0",
         "8.0",
         "younger"
        ],
        [
         "21",
         "6590646",
         "42.5",
         "F",
         "103.0",
         "2768726.87",
         "5.0",
         "8.0",
         "older"
        ],
        [
         "24",
         "9520009",
         "30.0",
         "M",
         "160.0",
         "61062.57",
         "6.0",
         "9.0",
         "younger"
        ],
        [
         "25",
         "1508759",
         "58.5",
         "U",
         "80.0",
         "66514.85",
         "4.0",
         "7.0",
         "older"
        ],
        [
         "32",
         "7474517",
         "52.5",
         "U",
         "73.0",
         "53993.47",
         "4.0",
         "7.0",
         "older"
        ],
        [
         "33",
         "6448014",
         "57.5",
         "U",
         "85.0",
         "82787.45999999999",
         "6.0",
         "9.0",
         "older"
        ],
        [
         "35",
         "2305285",
         "54.0",
         "M",
         "168.0",
         "132347.89",
         "6.0",
         "9.0",
         "older"
        ],
        [
         "37",
         "3065089",
         "63.0",
         "M",
         "228.0",
         "439723.43",
         "6.0",
         "9.0",
         "older"
        ],
        [
         "40",
         "3753796",
         "66.5",
         "F",
         "305.0",
         "214661.75",
         "6.0",
         "9.0",
         "older"
        ],
        [
         "42",
         "6341488",
         "65.0",
         "F",
         "285.0",
         "116534.46",
         "5.0",
         "8.0",
         "older"
        ],
        [
         "44",
         "2000151",
         "38.0",
         "F",
         "254.0",
         "136515.53999999998",
         "6.0",
         "9.0",
         "older"
        ],
        [
         "49",
         "1329260",
         "63.5",
         "F",
         "212.0",
         "666138.27",
         "5.0",
         "8.0",
         "older"
        ],
        [
         "53",
         "9587439",
         "26.5",
         "U",
         "66.0",
         "28875.65",
         "6.0",
         "9.0",
         "younger"
        ],
        [
         "54",
         "5542798",
         "56.5",
         "M",
         "116.0",
         "79888.68",
         "5.0",
         "8.0",
         "older"
        ],
        [
         "56",
         "7928244",
         "33.0",
         "F",
         "177.0",
         "105416.69",
         "6.0",
         "9.0",
         "younger"
        ],
        [
         "59",
         "3731320",
         "39.5",
         "U",
         "89.0",
         "34487.99",
         "6.0",
         "9.0",
         "older"
        ],
        [
         "60",
         "9055726",
         "25.0",
         "U",
         "70.0",
         "33261.64",
         "6.0",
         "9.0",
         "younger"
        ],
        [
         "62",
         "7414763",
         "27.0",
         "U",
         "91.0",
         "53219.65",
         "6.0",
         "9.0",
         "younger"
        ],
        [
         "63",
         "1531616",
         "60.0",
         "M",
         "129.0",
         "100777.88",
         "6.0",
         "9.0",
         "older"
        ],
        [
         "64",
         "8387066",
         "66.0",
         "M",
         "329.0",
         "406190.96",
         "6.0",
         "9.0",
         "older"
        ],
        [
         "66",
         "8593187",
         "56.0",
         "M",
         "168.0",
         "207559.95",
         "6.0",
         "9.0",
         "older"
        ],
        [
         "67",
         "5908339",
         "40.0",
         "F",
         "190.0",
         "205785.55",
         "5.0",
         "8.0",
         "older"
        ],
        [
         "68",
         "4442018",
         "33.0",
         "U",
         "82.0",
         "65264.87",
         "6.0",
         "9.0",
         "younger"
        ],
        [
         "69",
         "5727622",
         "52.0",
         "U",
         "73.0",
         "109130.47",
         "4.0",
         "7.0",
         "older"
        ],
        [
         "75",
         "3979917",
         "63.0",
         "M",
         "239.0",
         "374919.6",
         "4.0",
         "7.0",
         "older"
        ],
        [
         "76",
         "7759130",
         "64.5",
         "U",
         "69.0",
         "78278.56",
         "6.0",
         "9.0",
         "older"
        ],
        [
         "77",
         "5587497",
         "64.0",
         "U",
         "91.0",
         "410277.5",
         "5.0",
         "8.0",
         "older"
        ],
        [
         "78",
         "4264493",
         "22.5",
         "U",
         "67.0",
         "36298.01",
         "6.0",
         "9.0",
         "younger"
        ],
        [
         "81",
         "9692048",
         "38.0",
         "M",
         "142.0",
         "87935.1",
         "4.0",
         "7.0",
         "older"
        ],
        [
         "85",
         "7321667",
         "39.5",
         "U",
         "95.0",
         "68761.48999999999",
         "6.0",
         "9.0",
         "older"
        ],
        [
         "86",
         "1460648",
         "40.5",
         "F",
         "288.0",
         "121700.66",
         "5.0",
         "8.0",
         "older"
        ],
        [
         "87",
         "2942135",
         "68.5",
         "U",
         "261.0",
         "417847.47",
         "6.0",
         "9.0",
         "older"
        ],
        [
         "89",
         "6398341",
         "33.5",
         "F",
         "250.0",
         "109127.33",
         "6.0",
         "9.0",
         "younger"
        ],
        [
         "95",
         "6810931",
         "23.0",
         "U",
         "60.0",
         "45780.6",
         "5.0",
         "8.0",
         "younger"
        ],
        [
         "97",
         "6737425",
         "59.5",
         "M",
         "190.0",
         "83778.79000000001",
         "5.0",
         "8.0",
         "older"
        ],
        [
         "99",
         "7458635",
         "26.5",
         "U",
         "94.0",
         "158434.49",
         "6.0",
         "9.0",
         "younger"
        ],
        [
         "100",
         "3322068",
         "45.0",
         "F",
         "188.0",
         "140687.41",
         "6.0",
         "9.0",
         "older"
        ],
        [
         "103",
         "2408879",
         "49.0",
         "U",
         "58.0",
         "208004.65",
         "5.0",
         "8.0",
         "older"
        ],
        [
         "104",
         "1596507",
         "78.0",
         "F",
         "336.0",
         "175883.31",
         "6.0",
         "9.0",
         "older"
        ],
        [
         "105",
         "8763719",
         "40.0",
         "M",
         "149.0",
         "98540.5",
         "6.0",
         "9.0",
         "older"
        ],
        [
         "106",
         "7702214",
         "32.0",
         "U",
         "73.0",
         "43988.28",
         "6.0",
         "9.0",
         "younger"
        ],
        [
         "111",
         "6226205",
         "68.5",
         "F",
         "155.0",
         "45294.1",
         "4.0",
         "7.0",
         "older"
        ]
       ],
       "shape": {
        "columns": 8,
        "rows": 27053
       }
      },
      "text/html": [
       "<div>\n",
       "<style scoped>\n",
       "    .dataframe tbody tr th:only-of-type {\n",
       "        vertical-align: middle;\n",
       "    }\n",
       "\n",
       "    .dataframe tbody tr th {\n",
       "        vertical-align: top;\n",
       "    }\n",
       "\n",
       "    .dataframe thead th {\n",
       "        text-align: right;\n",
       "    }\n",
       "</style>\n",
       "<table border=\"1\" class=\"dataframe\">\n",
       "  <thead>\n",
       "    <tr style=\"text-align: right;\">\n",
       "      <th></th>\n",
       "      <th>client_id</th>\n",
       "      <th>clnt_age</th>\n",
       "      <th>gendr</th>\n",
       "      <th>clnt_tenure_mnth</th>\n",
       "      <th>bal</th>\n",
       "      <th>calls_6_mnth</th>\n",
       "      <th>logons_6_mnth</th>\n",
       "      <th>age_group</th>\n",
       "    </tr>\n",
       "  </thead>\n",
       "  <tbody>\n",
       "    <tr>\n",
       "      <th>0</th>\n",
       "      <td>836976</td>\n",
       "      <td>60.5</td>\n",
       "      <td>U</td>\n",
       "      <td>73.0</td>\n",
       "      <td>45105.30</td>\n",
       "      <td>6.0</td>\n",
       "      <td>9.0</td>\n",
       "      <td>older</td>\n",
       "    </tr>\n",
       "    <tr>\n",
       "      <th>1</th>\n",
       "      <td>2304905</td>\n",
       "      <td>58.0</td>\n",
       "      <td>U</td>\n",
       "      <td>94.0</td>\n",
       "      <td>110860.30</td>\n",
       "      <td>6.0</td>\n",
       "      <td>9.0</td>\n",
       "      <td>older</td>\n",
       "    </tr>\n",
       "    <tr>\n",
       "      <th>2</th>\n",
       "      <td>1439522</td>\n",
       "      <td>32.0</td>\n",
       "      <td>U</td>\n",
       "      <td>64.0</td>\n",
       "      <td>52467.79</td>\n",
       "      <td>6.0</td>\n",
       "      <td>9.0</td>\n",
       "      <td>younger</td>\n",
       "    </tr>\n",
       "    <tr>\n",
       "      <th>9</th>\n",
       "      <td>8198645</td>\n",
       "      <td>54.5</td>\n",
       "      <td>F</td>\n",
       "      <td>189.0</td>\n",
       "      <td>382303.83</td>\n",
       "      <td>6.0</td>\n",
       "      <td>9.0</td>\n",
       "      <td>older</td>\n",
       "    </tr>\n",
       "    <tr>\n",
       "      <th>11</th>\n",
       "      <td>2537139</td>\n",
       "      <td>51.5</td>\n",
       "      <td>U</td>\n",
       "      <td>99.0</td>\n",
       "      <td>135940.68</td>\n",
       "      <td>6.0</td>\n",
       "      <td>9.0</td>\n",
       "      <td>older</td>\n",
       "    </tr>\n",
       "    <tr>\n",
       "      <th>...</th>\n",
       "      <td>...</td>\n",
       "      <td>...</td>\n",
       "      <td>...</td>\n",
       "      <td>...</td>\n",
       "      <td>...</td>\n",
       "      <td>...</td>\n",
       "      <td>...</td>\n",
       "      <td>...</td>\n",
       "    </tr>\n",
       "    <tr>\n",
       "      <th>70575</th>\n",
       "      <td>8650568</td>\n",
       "      <td>26.0</td>\n",
       "      <td>M</td>\n",
       "      <td>135.0</td>\n",
       "      <td>81293.54</td>\n",
       "      <td>7.0</td>\n",
       "      <td>7.0</td>\n",
       "      <td>younger</td>\n",
       "    </tr>\n",
       "    <tr>\n",
       "      <th>70577</th>\n",
       "      <td>4324637</td>\n",
       "      <td>37.0</td>\n",
       "      <td>M</td>\n",
       "      <td>108.0</td>\n",
       "      <td>60768.46</td>\n",
       "      <td>7.0</td>\n",
       "      <td>7.0</td>\n",
       "      <td>older</td>\n",
       "    </tr>\n",
       "    <tr>\n",
       "      <th>70581</th>\n",
       "      <td>2184810</td>\n",
       "      <td>75.5</td>\n",
       "      <td>M</td>\n",
       "      <td>286.0</td>\n",
       "      <td>2496314.67</td>\n",
       "      <td>7.0</td>\n",
       "      <td>7.0</td>\n",
       "      <td>older</td>\n",
       "    </tr>\n",
       "    <tr>\n",
       "      <th>70586</th>\n",
       "      <td>8057076</td>\n",
       "      <td>24.5</td>\n",
       "      <td>F</td>\n",
       "      <td>120.0</td>\n",
       "      <td>68218.85</td>\n",
       "      <td>7.0</td>\n",
       "      <td>7.0</td>\n",
       "      <td>younger</td>\n",
       "    </tr>\n",
       "    <tr>\n",
       "      <th>70608</th>\n",
       "      <td>5602139</td>\n",
       "      <td>59.5</td>\n",
       "      <td>F</td>\n",
       "      <td>254.0</td>\n",
       "      <td>157498.73</td>\n",
       "      <td>7.0</td>\n",
       "      <td>7.0</td>\n",
       "      <td>older</td>\n",
       "    </tr>\n",
       "  </tbody>\n",
       "</table>\n",
       "<p>27053 rows × 8 columns</p>\n",
       "</div>"
      ],
      "text/plain": [
       "       client_id  clnt_age gendr  clnt_tenure_mnth         bal  calls_6_mnth  \\\n",
       "0         836976      60.5     U              73.0    45105.30           6.0   \n",
       "1        2304905      58.0     U              94.0   110860.30           6.0   \n",
       "2        1439522      32.0     U              64.0    52467.79           6.0   \n",
       "9        8198645      54.5     F             189.0   382303.83           6.0   \n",
       "11       2537139      51.5     U              99.0   135940.68           6.0   \n",
       "...          ...       ...   ...               ...         ...           ...   \n",
       "70575    8650568      26.0     M             135.0    81293.54           7.0   \n",
       "70577    4324637      37.0     M             108.0    60768.46           7.0   \n",
       "70581    2184810      75.5     M             286.0  2496314.67           7.0   \n",
       "70586    8057076      24.5     F             120.0    68218.85           7.0   \n",
       "70608    5602139      59.5     F             254.0   157498.73           7.0   \n",
       "\n",
       "       logons_6_mnth age_group  \n",
       "0                9.0     older  \n",
       "1                9.0     older  \n",
       "2                9.0   younger  \n",
       "9                9.0     older  \n",
       "11               9.0     older  \n",
       "...              ...       ...  \n",
       "70575            7.0   younger  \n",
       "70577            7.0     older  \n",
       "70581            7.0     older  \n",
       "70586            7.0   younger  \n",
       "70608            7.0     older  \n",
       "\n",
       "[27053 rows x 8 columns]"
      ]
     },
     "execution_count": 65,
     "metadata": {},
     "output_type": "execute_result"
    }
   ],
   "source": [
    "df_client_demo_eda_primeclient_day1"
   ]
  },
  {
   "cell_type": "code",
   "execution_count": 68,
   "metadata": {},
   "outputs": [
    {
     "data": {
      "application/vnd.microsoft.datawrangler.viewer.v0+json": {
       "columns": [
        {
         "name": "index",
         "rawType": "object",
         "type": "string"
        },
        {
         "name": "client_id",
         "rawType": "float64",
         "type": "float"
        },
        {
         "name": "clnt_age",
         "rawType": "float64",
         "type": "float"
        },
        {
         "name": "clnt_tenure_mnth",
         "rawType": "float64",
         "type": "float"
        },
        {
         "name": "bal",
         "rawType": "float64",
         "type": "float"
        },
        {
         "name": "calls_6_mnth",
         "rawType": "float64",
         "type": "float"
        },
        {
         "name": "logons_6_mnth",
         "rawType": "float64",
         "type": "float"
        }
       ],
       "conversionMethod": "pd.DataFrame",
       "ref": "1a01f31e-bd09-47e7-a43b-950db0d7bdfc",
       "rows": [
        [
         "count",
         "27053.0",
         "27052.0",
         "27053.0",
         "27053.0",
         "27053.0",
         "27053.0"
        ],
        [
         "mean",
         "4998605.909363102",
         "47.4875425107201",
         "154.86467304919972",
         "205868.7411640114",
         "5.612907995416405",
         "8.090821720326765"
        ],
        [
         "std",
         "2886019.6424224777",
         "16.084831811933118",
         "86.0784640905457",
         "397197.42970274435",
         "1.0259888557102443",
         "0.9022097142674167"
        ],
        [
         "min",
         "1104.0",
         "13.5",
         "33.0",
         "13791.8",
         "0.0",
         "7.0"
        ],
        [
         "25%",
         "2508004.0",
         "32.5",
         "82.0",
         "47445.5",
         "5.0",
         "7.0"
        ],
        [
         "50%",
         "4991811.0",
         "48.5",
         "139.0",
         "86568.95",
         "6.0",
         "8.0"
        ],
        [
         "75%",
         "7479054.0",
         "60.5",
         "202.0",
         "203847.44",
         "6.0",
         "9.0"
        ],
        [
         "max",
         "9999729.0",
         "96.0",
         "669.0",
         "16320040.15",
         "7.0",
         "9.0"
        ]
       ],
       "shape": {
        "columns": 6,
        "rows": 8
       }
      },
      "text/html": [
       "<div>\n",
       "<style scoped>\n",
       "    .dataframe tbody tr th:only-of-type {\n",
       "        vertical-align: middle;\n",
       "    }\n",
       "\n",
       "    .dataframe tbody tr th {\n",
       "        vertical-align: top;\n",
       "    }\n",
       "\n",
       "    .dataframe thead th {\n",
       "        text-align: right;\n",
       "    }\n",
       "</style>\n",
       "<table border=\"1\" class=\"dataframe\">\n",
       "  <thead>\n",
       "    <tr style=\"text-align: right;\">\n",
       "      <th></th>\n",
       "      <th>client_id</th>\n",
       "      <th>clnt_age</th>\n",
       "      <th>clnt_tenure_mnth</th>\n",
       "      <th>bal</th>\n",
       "      <th>calls_6_mnth</th>\n",
       "      <th>logons_6_mnth</th>\n",
       "    </tr>\n",
       "  </thead>\n",
       "  <tbody>\n",
       "    <tr>\n",
       "      <th>count</th>\n",
       "      <td>2.705300e+04</td>\n",
       "      <td>27052.000000</td>\n",
       "      <td>27053.000000</td>\n",
       "      <td>2.705300e+04</td>\n",
       "      <td>27053.000000</td>\n",
       "      <td>27053.000000</td>\n",
       "    </tr>\n",
       "    <tr>\n",
       "      <th>mean</th>\n",
       "      <td>4.998606e+06</td>\n",
       "      <td>47.487543</td>\n",
       "      <td>154.864673</td>\n",
       "      <td>2.058687e+05</td>\n",
       "      <td>5.612908</td>\n",
       "      <td>8.090822</td>\n",
       "    </tr>\n",
       "    <tr>\n",
       "      <th>std</th>\n",
       "      <td>2.886020e+06</td>\n",
       "      <td>16.084832</td>\n",
       "      <td>86.078464</td>\n",
       "      <td>3.971974e+05</td>\n",
       "      <td>1.025989</td>\n",
       "      <td>0.902210</td>\n",
       "    </tr>\n",
       "    <tr>\n",
       "      <th>min</th>\n",
       "      <td>1.104000e+03</td>\n",
       "      <td>13.500000</td>\n",
       "      <td>33.000000</td>\n",
       "      <td>1.379180e+04</td>\n",
       "      <td>0.000000</td>\n",
       "      <td>7.000000</td>\n",
       "    </tr>\n",
       "    <tr>\n",
       "      <th>25%</th>\n",
       "      <td>2.508004e+06</td>\n",
       "      <td>32.500000</td>\n",
       "      <td>82.000000</td>\n",
       "      <td>4.744550e+04</td>\n",
       "      <td>5.000000</td>\n",
       "      <td>7.000000</td>\n",
       "    </tr>\n",
       "    <tr>\n",
       "      <th>50%</th>\n",
       "      <td>4.991811e+06</td>\n",
       "      <td>48.500000</td>\n",
       "      <td>139.000000</td>\n",
       "      <td>8.656895e+04</td>\n",
       "      <td>6.000000</td>\n",
       "      <td>8.000000</td>\n",
       "    </tr>\n",
       "    <tr>\n",
       "      <th>75%</th>\n",
       "      <td>7.479054e+06</td>\n",
       "      <td>60.500000</td>\n",
       "      <td>202.000000</td>\n",
       "      <td>2.038474e+05</td>\n",
       "      <td>6.000000</td>\n",
       "      <td>9.000000</td>\n",
       "    </tr>\n",
       "    <tr>\n",
       "      <th>max</th>\n",
       "      <td>9.999729e+06</td>\n",
       "      <td>96.000000</td>\n",
       "      <td>669.000000</td>\n",
       "      <td>1.632004e+07</td>\n",
       "      <td>7.000000</td>\n",
       "      <td>9.000000</td>\n",
       "    </tr>\n",
       "  </tbody>\n",
       "</table>\n",
       "</div>"
      ],
      "text/plain": [
       "          client_id      clnt_age  clnt_tenure_mnth           bal  \\\n",
       "count  2.705300e+04  27052.000000      27053.000000  2.705300e+04   \n",
       "mean   4.998606e+06     47.487543        154.864673  2.058687e+05   \n",
       "std    2.886020e+06     16.084832         86.078464  3.971974e+05   \n",
       "min    1.104000e+03     13.500000         33.000000  1.379180e+04   \n",
       "25%    2.508004e+06     32.500000         82.000000  4.744550e+04   \n",
       "50%    4.991811e+06     48.500000        139.000000  8.656895e+04   \n",
       "75%    7.479054e+06     60.500000        202.000000  2.038474e+05   \n",
       "max    9.999729e+06     96.000000        669.000000  1.632004e+07   \n",
       "\n",
       "       calls_6_mnth  logons_6_mnth  \n",
       "count  27053.000000   27053.000000  \n",
       "mean       5.612908       8.090822  \n",
       "std        1.025989       0.902210  \n",
       "min        0.000000       7.000000  \n",
       "25%        5.000000       7.000000  \n",
       "50%        6.000000       8.000000  \n",
       "75%        6.000000       9.000000  \n",
       "max        7.000000       9.000000  "
      ]
     },
     "execution_count": 68,
     "metadata": {},
     "output_type": "execute_result"
    }
   ],
   "source": [
    "df_client_demo_eda_primeclient_day1.describe()"
   ]
  },
  {
   "cell_type": "code",
   "execution_count": null,
   "metadata": {},
   "outputs": [
    {
     "data": {
      "image/png": "[encoded data removed]",
      "text/plain": [
       "<Figure size 1000x600 with 1 Axes>"
      ]
     },
     "metadata": {},
     "output_type": "display_data"
    }
   ],
   "source": [
    "plt.figure(figsize=(10, 6))\n",
    "sns.barplot(\n",
    "    data=df_client_demo_eda_primeclient_day1,\n",
    "    x='logons_6_mnth',\n",
    "    y='calls_6_mnth',\n",
    "    hue='age_group',\n",
    "    palette='Set1'\n",
    ")\n",
    "\n",
    "plt.title('Calls vs. Logins by Age Group')\n",
    "plt.xlabel('Logons (Last 6 Months)')\n",
    "plt.ylabel('Calls (Last 6 Months)')\n",
    "plt.legend(title='Age Group', bbox_to_anchor=(1.05, 1), loc='upper left')\n",
    "plt.tight_layout()\n",
    "plt.show()"
   ]
  },
  {
   "cell_type": "code",
   "execution_count": 70,
   "metadata": {},
   "outputs": [
    {
     "data": {
      "image/png": "[encoded data removed]",
      "text/plain": [
       "<Figure size 1000x600 with 1 Axes>"
      ]
     },
     "metadata": {},
     "output_type": "display_data"
    }
   ],
   "source": [
    "plt.figure(figsize=(10, 6))\n",
    "sns.scatterplot(\n",
    "    data=df_client_demo_eda_primeclient_day1,\n",
    "    x='clnt_tenure_mnth',\n",
    "    y='bal',\n",
    "    hue='age_group',        \n",
    "    palette='Set1',        \n",
    "    alpha=0.4,             \n",
    "    s=20                  \n",
    ")\n",
    "\n",
    "plt.title('Client Tenure vs. Balance by Age Group')\n",
    "plt.xlabel('Client Tenure (Months)')\n",
    "plt.ylabel('Balance')\n",
    "plt.legend(title='Age Group', bbox_to_anchor=(1.05, 1), loc='upper left')  # Put legend outside\n",
    "plt.tight_layout()\n",
    "plt.show()"
   ]
  },
  {
   "cell_type": "code",
   "execution_count": 76,
   "metadata": {},
   "outputs": [
    {
     "data": {
      "application/vnd.microsoft.datawrangler.viewer.v0+json": {
       "columns": [
        {
         "name": "index",
         "rawType": "object",
         "type": "string"
        },
        {
         "name": "client_id",
         "rawType": "float64",
         "type": "float"
        },
        {
         "name": "clnt_age",
         "rawType": "float64",
         "type": "float"
        },
        {
         "name": "clnt_tenure_mnth",
         "rawType": "float64",
         "type": "float"
        },
        {
         "name": "bal",
         "rawType": "float64",
         "type": "float"
        },
        {
         "name": "calls_6_mnth",
         "rawType": "float64",
         "type": "float"
        },
        {
         "name": "logons_6_mnth",
         "rawType": "float64",
         "type": "float"
        }
       ],
       "conversionMethod": "pd.DataFrame",
       "ref": "6616da06-bb42-48b7-83ac-20b020bc4dcb",
       "rows": [
        [
         "count",
         "27053.0",
         "27052.0",
         "27053.0",
         "27053.0",
         "27053.0",
         "27053.0"
        ],
        [
         "mean",
         "4998605.909363102",
         "47.4875425107201",
         "154.86467304919972",
         "205868.7411640114",
         "5.612907995416405",
         "8.090821720326765"
        ],
        [
         "std",
         "2886019.6424224777",
         "16.084831811933118",
         "86.0784640905457",
         "397197.42970274435",
         "1.0259888557102443",
         "0.9022097142674167"
        ],
        [
         "min",
         "1104.0",
         "13.5",
         "33.0",
         "13791.8",
         "0.0",
         "7.0"
        ],
        [
         "25%",
         "2508004.0",
         "32.5",
         "82.0",
         "47445.5",
         "5.0",
         "7.0"
        ],
        [
         "50%",
         "4991811.0",
         "48.5",
         "139.0",
         "86568.95",
         "6.0",
         "8.0"
        ],
        [
         "75%",
         "7479054.0",
         "60.5",
         "202.0",
         "203847.44",
         "6.0",
         "9.0"
        ],
        [
         "max",
         "9999729.0",
         "96.0",
         "669.0",
         "16320040.15",
         "7.0",
         "9.0"
        ]
       ],
       "shape": {
        "columns": 6,
        "rows": 8
       }
      },
      "text/html": [
       "<div>\n",
       "<style scoped>\n",
       "    .dataframe tbody tr th:only-of-type {\n",
       "        vertical-align: middle;\n",
       "    }\n",
       "\n",
       "    .dataframe tbody tr th {\n",
       "        vertical-align: top;\n",
       "    }\n",
       "\n",
       "    .dataframe thead th {\n",
       "        text-align: right;\n",
       "    }\n",
       "</style>\n",
       "<table border=\"1\" class=\"dataframe\">\n",
       "  <thead>\n",
       "    <tr style=\"text-align: right;\">\n",
       "      <th></th>\n",
       "      <th>client_id</th>\n",
       "      <th>clnt_age</th>\n",
       "      <th>clnt_tenure_mnth</th>\n",
       "      <th>bal</th>\n",
       "      <th>calls_6_mnth</th>\n",
       "      <th>logons_6_mnth</th>\n",
       "    </tr>\n",
       "  </thead>\n",
       "  <tbody>\n",
       "    <tr>\n",
       "      <th>count</th>\n",
       "      <td>2.705300e+04</td>\n",
       "      <td>27052.000000</td>\n",
       "      <td>27053.000000</td>\n",
       "      <td>2.705300e+04</td>\n",
       "      <td>27053.000000</td>\n",
       "      <td>27053.000000</td>\n",
       "    </tr>\n",
       "    <tr>\n",
       "      <th>mean</th>\n",
       "      <td>4.998606e+06</td>\n",
       "      <td>47.487543</td>\n",
       "      <td>154.864673</td>\n",
       "      <td>2.058687e+05</td>\n",
       "      <td>5.612908</td>\n",
       "      <td>8.090822</td>\n",
       "    </tr>\n",
       "    <tr>\n",
       "      <th>std</th>\n",
       "      <td>2.886020e+06</td>\n",
       "      <td>16.084832</td>\n",
       "      <td>86.078464</td>\n",
       "      <td>3.971974e+05</td>\n",
       "      <td>1.025989</td>\n",
       "      <td>0.902210</td>\n",
       "    </tr>\n",
       "    <tr>\n",
       "      <th>min</th>\n",
       "      <td>1.104000e+03</td>\n",
       "      <td>13.500000</td>\n",
       "      <td>33.000000</td>\n",
       "      <td>1.379180e+04</td>\n",
       "      <td>0.000000</td>\n",
       "      <td>7.000000</td>\n",
       "    </tr>\n",
       "    <tr>\n",
       "      <th>25%</th>\n",
       "      <td>2.508004e+06</td>\n",
       "      <td>32.500000</td>\n",
       "      <td>82.000000</td>\n",
       "      <td>4.744550e+04</td>\n",
       "      <td>5.000000</td>\n",
       "      <td>7.000000</td>\n",
       "    </tr>\n",
       "    <tr>\n",
       "      <th>50%</th>\n",
       "      <td>4.991811e+06</td>\n",
       "      <td>48.500000</td>\n",
       "      <td>139.000000</td>\n",
       "      <td>8.656895e+04</td>\n",
       "      <td>6.000000</td>\n",
       "      <td>8.000000</td>\n",
       "    </tr>\n",
       "    <tr>\n",
       "      <th>75%</th>\n",
       "      <td>7.479054e+06</td>\n",
       "      <td>60.500000</td>\n",
       "      <td>202.000000</td>\n",
       "      <td>2.038474e+05</td>\n",
       "      <td>6.000000</td>\n",
       "      <td>9.000000</td>\n",
       "    </tr>\n",
       "    <tr>\n",
       "      <th>max</th>\n",
       "      <td>9.999729e+06</td>\n",
       "      <td>96.000000</td>\n",
       "      <td>669.000000</td>\n",
       "      <td>1.632004e+07</td>\n",
       "      <td>7.000000</td>\n",
       "      <td>9.000000</td>\n",
       "    </tr>\n",
       "  </tbody>\n",
       "</table>\n",
       "</div>"
      ],
      "text/plain": [
       "          client_id      clnt_age  clnt_tenure_mnth           bal  \\\n",
       "count  2.705300e+04  27052.000000      27053.000000  2.705300e+04   \n",
       "mean   4.998606e+06     47.487543        154.864673  2.058687e+05   \n",
       "std    2.886020e+06     16.084832         86.078464  3.971974e+05   \n",
       "min    1.104000e+03     13.500000         33.000000  1.379180e+04   \n",
       "25%    2.508004e+06     32.500000         82.000000  4.744550e+04   \n",
       "50%    4.991811e+06     48.500000        139.000000  8.656895e+04   \n",
       "75%    7.479054e+06     60.500000        202.000000  2.038474e+05   \n",
       "max    9.999729e+06     96.000000        669.000000  1.632004e+07   \n",
       "\n",
       "       calls_6_mnth  logons_6_mnth  \n",
       "count  27053.000000   27053.000000  \n",
       "mean       5.612908       8.090822  \n",
       "std        1.025989       0.902210  \n",
       "min        0.000000       7.000000  \n",
       "25%        5.000000       7.000000  \n",
       "50%        6.000000       8.000000  \n",
       "75%        6.000000       9.000000  \n",
       "max        7.000000       9.000000  "
      ]
     },
     "execution_count": 76,
     "metadata": {},
     "output_type": "execute_result"
    }
   ],
   "source": [
    "df_client_demo_eda_primeclient_day1.describe()"
   ]
  },
  {
   "cell_type": "code",
   "execution_count": 78,
   "metadata": {},
   "outputs": [
    {
     "data": {
      "text/plain": [
       "5569367054.71"
      ]
     },
     "execution_count": 78,
     "metadata": {},
     "output_type": "execute_result"
    }
   ],
   "source": [
    "df_client_demo_eda_primeclient_day1['bal'].sum()"
   ]
  },
  {
   "cell_type": "code",
   "execution_count": 71,
   "metadata": {},
   "outputs": [
    {
     "data": {
      "text/plain": [
       "age_group\n",
       "older      19010\n",
       "younger     8042\n",
       "Name: count, dtype: int64"
      ]
     },
     "execution_count": 71,
     "metadata": {},
     "output_type": "execute_result"
    }
   ],
   "source": [
    "df_client_demo_eda_primeclient_day1.value_counts('age_group')"
   ]
  },
  {
   "cell_type": "code",
   "execution_count": 75,
   "metadata": {},
   "outputs": [
    {
     "data": {
      "text/plain": [
       "count     27052\n",
       "unique        2\n",
       "top       older\n",
       "freq      19010\n",
       "Name: age_group, dtype: object"
      ]
     },
     "execution_count": 75,
     "metadata": {},
     "output_type": "execute_result"
    }
   ],
   "source": [
    "df_client_demo_eda_primeclient_day1['age_group'].describe()"
   ]
  },
  {
   "cell_type": "code",
   "execution_count": null,
   "metadata": {},
   "outputs": [],
   "source": [
    "\"\"\"\n",
    "Ratio\n",
    "Prime Clients = 2.36\n",
    "All CLients =  2.34\n",
    "\n",
    "\"\"\""
   ]
  },
  {
   "cell_type": "code",
   "execution_count": null,
   "metadata": {},
   "outputs": [],
   "source": [
    "\"\"\"\n",
    "Primary clients based on loggins are older clients.\n",
    "\n",
    "No matter if you are younger or older the loggins are not efficcient because most people as they logging have to call in the same proportion.\n",
    "We dont know if people are calling or logging first.\n",
    "\n",
    "\"\"\""
   ]
  },
  {
   "cell_type": "markdown",
   "metadata": {},
   "source": [
    "### DF Final Experiment Clients"
   ]
  },
  {
   "cell_type": "code",
   "execution_count": 10,
   "metadata": {},
   "outputs": [
    {
     "data": {
      "application/vnd.microsoft.datawrangler.viewer.v0+json": {
       "columns": [
        {
         "name": "index",
         "rawType": "int64",
         "type": "integer"
        },
        {
         "name": "client_id",
         "rawType": "int64",
         "type": "integer"
        },
        {
         "name": "Variation",
         "rawType": "object",
         "type": "unknown"
        }
       ],
       "conversionMethod": "pd.DataFrame",
       "ref": "1b167a36-099b-4944-9354-2e8ed9050957",
       "rows": [
        [
         "0",
         "9988021",
         "Test"
        ],
        [
         "1",
         "8320017",
         "Test"
        ],
        [
         "2",
         "4033851",
         "Control"
        ],
        [
         "3",
         "1982004",
         "Test"
        ],
        [
         "4",
         "9294070",
         "Control"
        ],
        [
         "5",
         "9466803",
         "Test"
        ],
        [
         "6",
         "3170143",
         "Test"
        ],
        [
         "7",
         "6651403",
         "Control"
        ],
        [
         "8",
         "5887227",
         "Test"
        ],
        [
         "9",
         "2105948",
         "Control"
        ],
        [
         "10",
         "438567",
         "Test"
        ],
        [
         "11",
         "2519971",
         "Test"
        ],
        [
         "12",
         "9814849",
         "Control"
        ],
        [
         "13",
         "5407849",
         "Test"
        ],
        [
         "14",
         "7286739",
         "Control"
        ],
        [
         "15",
         "4446011",
         "Control"
        ],
        [
         "16",
         "5308474",
         "Test"
        ],
        [
         "17",
         "2991219",
         "Test"
        ],
        [
         "18",
         "2354414",
         "Test"
        ],
        [
         "19",
         "949210",
         "Test"
        ],
        [
         "20",
         "4229407",
         "Control"
        ],
        [
         "21",
         "9987707",
         "Test"
        ],
        [
         "22",
         "2709011",
         "Test"
        ],
        [
         "23",
         "4507502",
         "Test"
        ],
        [
         "24",
         "2842481",
         "Control"
        ],
        [
         "25",
         "2317698",
         "Test"
        ],
        [
         "26",
         "3013805",
         "Test"
        ],
        [
         "27",
         "1218661",
         "Control"
        ],
        [
         "28",
         "2965703",
         "Test"
        ],
        [
         "29",
         "1712929",
         "Control"
        ],
        [
         "30",
         "2328234",
         "Test"
        ],
        [
         "31",
         "800925",
         "Control"
        ],
        [
         "32",
         "6685654",
         "Test"
        ],
        [
         "33",
         "8766054",
         "Test"
        ],
        [
         "34",
         "4726500",
         "Test"
        ],
        [
         "35",
         "9504867",
         "Test"
        ],
        [
         "36",
         "1242238",
         "Control"
        ],
        [
         "37",
         "7800773",
         "Test"
        ],
        [
         "38",
         "9477476",
         "Control"
        ],
        [
         "39",
         "1338778",
         "Control"
        ],
        [
         "40",
         "6584990",
         "Control"
        ],
        [
         "41",
         "7859827",
         "Test"
        ],
        [
         "42",
         "7407692",
         "Test"
        ],
        [
         "43",
         "7040762",
         "Control"
        ],
        [
         "44",
         "9900469",
         "Test"
        ],
        [
         "45",
         "5169372",
         "Control"
        ],
        [
         "46",
         "5267250",
         "Control"
        ],
        [
         "47",
         "2079440",
         "Test"
        ],
        [
         "48",
         "5376894",
         "Test"
        ],
        [
         "49",
         "3751049",
         "Control"
        ]
       ],
       "shape": {
        "columns": 2,
        "rows": 70609
       }
      },
      "text/html": [
       "<div>\n",
       "<style scoped>\n",
       "    .dataframe tbody tr th:only-of-type {\n",
       "        vertical-align: middle;\n",
       "    }\n",
       "\n",
       "    .dataframe tbody tr th {\n",
       "        vertical-align: top;\n",
       "    }\n",
       "\n",
       "    .dataframe thead th {\n",
       "        text-align: right;\n",
       "    }\n",
       "</style>\n",
       "<table border=\"1\" class=\"dataframe\">\n",
       "  <thead>\n",
       "    <tr style=\"text-align: right;\">\n",
       "      <th></th>\n",
       "      <th>client_id</th>\n",
       "      <th>Variation</th>\n",
       "    </tr>\n",
       "  </thead>\n",
       "  <tbody>\n",
       "    <tr>\n",
       "      <th>0</th>\n",
       "      <td>9988021</td>\n",
       "      <td>Test</td>\n",
       "    </tr>\n",
       "    <tr>\n",
       "      <th>1</th>\n",
       "      <td>8320017</td>\n",
       "      <td>Test</td>\n",
       "    </tr>\n",
       "    <tr>\n",
       "      <th>2</th>\n",
       "      <td>4033851</td>\n",
       "      <td>Control</td>\n",
       "    </tr>\n",
       "    <tr>\n",
       "      <th>3</th>\n",
       "      <td>1982004</td>\n",
       "      <td>Test</td>\n",
       "    </tr>\n",
       "    <tr>\n",
       "      <th>4</th>\n",
       "      <td>9294070</td>\n",
       "      <td>Control</td>\n",
       "    </tr>\n",
       "    <tr>\n",
       "      <th>...</th>\n",
       "      <td>...</td>\n",
       "      <td>...</td>\n",
       "    </tr>\n",
       "    <tr>\n",
       "      <th>70604</th>\n",
       "      <td>2443347</td>\n",
       "      <td>NaN</td>\n",
       "    </tr>\n",
       "    <tr>\n",
       "      <th>70605</th>\n",
       "      <td>8788427</td>\n",
       "      <td>NaN</td>\n",
       "    </tr>\n",
       "    <tr>\n",
       "      <th>70606</th>\n",
       "      <td>266828</td>\n",
       "      <td>NaN</td>\n",
       "    </tr>\n",
       "    <tr>\n",
       "      <th>70607</th>\n",
       "      <td>1266421</td>\n",
       "      <td>NaN</td>\n",
       "    </tr>\n",
       "    <tr>\n",
       "      <th>70608</th>\n",
       "      <td>9895983</td>\n",
       "      <td>NaN</td>\n",
       "    </tr>\n",
       "  </tbody>\n",
       "</table>\n",
       "<p>70609 rows × 2 columns</p>\n",
       "</div>"
      ],
      "text/plain": [
       "       client_id Variation\n",
       "0        9988021      Test\n",
       "1        8320017      Test\n",
       "2        4033851   Control\n",
       "3        1982004      Test\n",
       "4        9294070   Control\n",
       "...          ...       ...\n",
       "70604    2443347       NaN\n",
       "70605    8788427       NaN\n",
       "70606     266828       NaN\n",
       "70607    1266421       NaN\n",
       "70608    9895983       NaN\n",
       "\n",
       "[70609 rows x 2 columns]"
      ]
     },
     "execution_count": 10,
     "metadata": {},
     "output_type": "execute_result"
    }
   ],
   "source": [
    "df_final_experiment_clients"
   ]
  },
  {
   "cell_type": "code",
   "execution_count": null,
   "metadata": {},
   "outputs": [],
   "source": []
  },
  {
   "cell_type": "markdown",
   "metadata": {},
   "source": [
    "### DF Final Web Data Pt 1"
   ]
  },
  {
   "cell_type": "code",
   "execution_count": 11,
   "metadata": {},
   "outputs": [
    {
     "data": {
      "application/vnd.microsoft.datawrangler.viewer.v0+json": {
       "columns": [
        {
         "name": "index",
         "rawType": "int64",
         "type": "integer"
        },
        {
         "name": "client_id",
         "rawType": "int64",
         "type": "integer"
        },
        {
         "name": "visitor_id",
         "rawType": "object",
         "type": "string"
        },
        {
         "name": "visit_id",
         "rawType": "object",
         "type": "string"
        },
        {
         "name": "process_step",
         "rawType": "object",
         "type": "string"
        },
        {
         "name": "date_time",
         "rawType": "object",
         "type": "string"
        }
       ],
       "conversionMethod": "pd.DataFrame",
       "ref": "4e63426b-ea22-4e9a-901e-20da9d72c0a6",
       "rows": [
        [
         "0",
         "9988021",
         "580560515_7732621733",
         "781255054_21935453173_531117",
         "step_3",
         "2017-04-17 15:27:07"
        ],
        [
         "1",
         "9988021",
         "580560515_7732621733",
         "781255054_21935453173_531117",
         "step_2",
         "2017-04-17 15:26:51"
        ],
        [
         "2",
         "9988021",
         "580560515_7732621733",
         "781255054_21935453173_531117",
         "step_3",
         "2017-04-17 15:19:22"
        ],
        [
         "3",
         "9988021",
         "580560515_7732621733",
         "781255054_21935453173_531117",
         "step_2",
         "2017-04-17 15:19:13"
        ],
        [
         "4",
         "9988021",
         "580560515_7732621733",
         "781255054_21935453173_531117",
         "step_3",
         "2017-04-17 15:18:04"
        ],
        [
         "5",
         "9988021",
         "580560515_7732621733",
         "781255054_21935453173_531117",
         "step_2",
         "2017-04-17 15:17:15"
        ],
        [
         "6",
         "9988021",
         "580560515_7732621733",
         "781255054_21935453173_531117",
         "step_1",
         "2017-04-17 15:17:01"
        ],
        [
         "7",
         "9988021",
         "580560515_7732621733",
         "781255054_21935453173_531117",
         "start",
         "2017-04-17 15:16:22"
        ],
        [
         "8",
         "8320017",
         "39393514_33118319366",
         "960651974_70596002104_312201",
         "confirm",
         "2017-04-05 13:10:05"
        ],
        [
         "9",
         "8320017",
         "39393514_33118319366",
         "960651974_70596002104_312201",
         "step_3",
         "2017-04-05 13:09:43"
        ],
        [
         "10",
         "8320017",
         "39393514_33118319366",
         "960651974_70596002104_312201",
         "step_2",
         "2017-04-05 13:08:40"
        ],
        [
         "11",
         "8320017",
         "39393514_33118319366",
         "960651974_70596002104_312201",
         "step_1",
         "2017-04-05 13:08:24"
        ],
        [
         "12",
         "8320017",
         "39393514_33118319366",
         "960651974_70596002104_312201",
         "start",
         "2017-04-05 13:08:06"
        ],
        [
         "13",
         "4033851",
         "762728880_76361333336",
         "949661017_22392791362_127391",
         "confirm",
         "2017-04-05 12:29:03"
        ],
        [
         "14",
         "4033851",
         "762728880_76361333336",
         "949661017_22392791362_127391",
         "confirm",
         "2017-04-05 12:29:01"
        ],
        [
         "15",
         "4033851",
         "762728880_76361333336",
         "949661017_22392791362_127391",
         "confirm",
         "2017-04-05 12:28:52"
        ],
        [
         "16",
         "4033851",
         "762728880_76361333336",
         "949661017_22392791362_127391",
         "step_3",
         "2017-04-05 12:26:08"
        ],
        [
         "17",
         "4033851",
         "762728880_76361333336",
         "949661017_22392791362_127391",
         "step_2",
         "2017-04-05 12:24:43"
        ],
        [
         "18",
         "4033851",
         "762728880_76361333336",
         "949661017_22392791362_127391",
         "step_1",
         "2017-04-05 12:24:12"
        ],
        [
         "19",
         "4033851",
         "762728880_76361333336",
         "949661017_22392791362_127391",
         "start",
         "2017-04-05 12:24:04"
        ],
        [
         "20",
         "4033851",
         "762728880_76361333336",
         "949661017_22392791362_127391",
         "step_2",
         "2017-04-05 12:10:26"
        ],
        [
         "21",
         "4033851",
         "762728880_76361333336",
         "949661017_22392791362_127391",
         "step_3",
         "2017-04-05 12:10:26"
        ],
        [
         "22",
         "4033851",
         "762728880_76361333336",
         "949661017_22392791362_127391",
         "step_2",
         "2017-04-05 12:10:25"
        ],
        [
         "23",
         "4033851",
         "762728880_76361333336",
         "949661017_22392791362_127391",
         "step_3",
         "2017-04-05 12:10:25"
        ],
        [
         "24",
         "1982004",
         "618934751_10082078917",
         "132494692_73738638511_70823",
         "confirm",
         "2017-04-17 12:02:42"
        ],
        [
         "25",
         "1982004",
         "618934751_10082078917",
         "132494692_73738638511_70823",
         "step_3",
         "2017-04-17 12:01:09"
        ],
        [
         "26",
         "1982004",
         "618934751_10082078917",
         "132494692_73738638511_70823",
         "step_2",
         "2017-04-17 12:00:01"
        ],
        [
         "27",
         "1982004",
         "618934751_10082078917",
         "132494692_73738638511_70823",
         "step_1",
         "2017-04-17 11:59:46"
        ],
        [
         "28",
         "1982004",
         "618934751_10082078917",
         "132494692_73738638511_70823",
         "start",
         "2017-04-17 11:59:42"
        ],
        [
         "29",
         "9294070",
         "489274391_63794562906",
         "116640698_27328181095_188045",
         "start",
         "2017-04-17 11:16:28"
        ],
        [
         "30",
         "9294070",
         "489274391_63794562906",
         "116640698_27328181095_188045",
         "start",
         "2017-04-17 11:16:13"
        ],
        [
         "31",
         "9466803",
         "97277031_5793723360",
         "812185460_4263902139_352107",
         "start",
         "2017-04-16 13:24:45"
        ],
        [
         "32",
         "9466803",
         "97277031_5793723360",
         "812185460_4263902139_352107",
         "step_2",
         "2017-04-16 13:24:16"
        ],
        [
         "33",
         "9466803",
         "97277031_5793723360",
         "812185460_4263902139_352107",
         "step_1",
         "2017-04-16 13:24:07"
        ],
        [
         "34",
         "9466803",
         "97277031_5793723360",
         "812185460_4263902139_352107",
         "start",
         "2017-04-16 13:24:05"
        ],
        [
         "35",
         "9466803",
         "97277031_5793723360",
         "812185460_4263902139_352107",
         "step_1",
         "2017-04-16 13:21:58"
        ],
        [
         "36",
         "9466803",
         "97277031_5793723360",
         "812185460_4263902139_352107",
         "start",
         "2017-04-16 13:21:51"
        ],
        [
         "37",
         "3170143",
         "837774974_91015515080",
         "758001412_25057963943_219559",
         "confirm",
         "2017-04-04 18:41:44"
        ],
        [
         "38",
         "3170143",
         "837774974_91015515080",
         "758001412_25057963943_219559",
         "step_3",
         "2017-04-04 18:41:03"
        ],
        [
         "39",
         "3170143",
         "837774974_91015515080",
         "758001412_25057963943_219559",
         "step_2",
         "2017-04-04 18:38:22"
        ],
        [
         "40",
         "3170143",
         "837774974_91015515080",
         "758001412_25057963943_219559",
         "step_1",
         "2017-04-04 18:38:14"
        ],
        [
         "41",
         "3170143",
         "837774974_91015515080",
         "758001412_25057963943_219559",
         "start",
         "2017-04-04 18:38:02"
        ],
        [
         "42",
         "6651403",
         "387438258_49845138949",
         "754106292_61370647593_160929",
         "confirm",
         "2017-04-04 17:38:39"
        ],
        [
         "43",
         "6651403",
         "387438258_49845138949",
         "754106292_61370647593_160929",
         "step_3",
         "2017-04-04 17:34:03"
        ],
        [
         "44",
         "6651403",
         "387438258_49845138949",
         "754106292_61370647593_160929",
         "step_2",
         "2017-04-04 17:33:55"
        ],
        [
         "45",
         "6651403",
         "387438258_49845138949",
         "754106292_61370647593_160929",
         "step_3",
         "2017-04-04 17:31:32"
        ],
        [
         "46",
         "6651403",
         "387438258_49845138949",
         "754106292_61370647593_160929",
         "step_2",
         "2017-04-04 17:28:44"
        ],
        [
         "47",
         "6651403",
         "387438258_49845138949",
         "754106292_61370647593_160929",
         "step_1",
         "2017-04-04 17:28:35"
        ],
        [
         "48",
         "6651403",
         "387438258_49845138949",
         "754106292_61370647593_160929",
         "start",
         "2017-04-04 17:28:18"
        ],
        [
         "49",
         "5887227",
         "448202785_26003228044",
         "458489157_53226123692_778999",
         "confirm",
         "2017-04-05 14:52:34"
        ]
       ],
       "shape": {
        "columns": 5,
        "rows": 343141
       }
      },
      "text/html": [
       "<div>\n",
       "<style scoped>\n",
       "    .dataframe tbody tr th:only-of-type {\n",
       "        vertical-align: middle;\n",
       "    }\n",
       "\n",
       "    .dataframe tbody tr th {\n",
       "        vertical-align: top;\n",
       "    }\n",
       "\n",
       "    .dataframe thead th {\n",
       "        text-align: right;\n",
       "    }\n",
       "</style>\n",
       "<table border=\"1\" class=\"dataframe\">\n",
       "  <thead>\n",
       "    <tr style=\"text-align: right;\">\n",
       "      <th></th>\n",
       "      <th>client_id</th>\n",
       "      <th>visitor_id</th>\n",
       "      <th>visit_id</th>\n",
       "      <th>process_step</th>\n",
       "      <th>date_time</th>\n",
       "    </tr>\n",
       "  </thead>\n",
       "  <tbody>\n",
       "    <tr>\n",
       "      <th>0</th>\n",
       "      <td>9988021</td>\n",
       "      <td>580560515_7732621733</td>\n",
       "      <td>781255054_21935453173_531117</td>\n",
       "      <td>step_3</td>\n",
       "      <td>2017-04-17 15:27:07</td>\n",
       "    </tr>\n",
       "    <tr>\n",
       "      <th>1</th>\n",
       "      <td>9988021</td>\n",
       "      <td>580560515_7732621733</td>\n",
       "      <td>781255054_21935453173_531117</td>\n",
       "      <td>step_2</td>\n",
       "      <td>2017-04-17 15:26:51</td>\n",
       "    </tr>\n",
       "    <tr>\n",
       "      <th>2</th>\n",
       "      <td>9988021</td>\n",
       "      <td>580560515_7732621733</td>\n",
       "      <td>781255054_21935453173_531117</td>\n",
       "      <td>step_3</td>\n",
       "      <td>2017-04-17 15:19:22</td>\n",
       "    </tr>\n",
       "    <tr>\n",
       "      <th>3</th>\n",
       "      <td>9988021</td>\n",
       "      <td>580560515_7732621733</td>\n",
       "      <td>781255054_21935453173_531117</td>\n",
       "      <td>step_2</td>\n",
       "      <td>2017-04-17 15:19:13</td>\n",
       "    </tr>\n",
       "    <tr>\n",
       "      <th>4</th>\n",
       "      <td>9988021</td>\n",
       "      <td>580560515_7732621733</td>\n",
       "      <td>781255054_21935453173_531117</td>\n",
       "      <td>step_3</td>\n",
       "      <td>2017-04-17 15:18:04</td>\n",
       "    </tr>\n",
       "    <tr>\n",
       "      <th>...</th>\n",
       "      <td>...</td>\n",
       "      <td>...</td>\n",
       "      <td>...</td>\n",
       "      <td>...</td>\n",
       "      <td>...</td>\n",
       "    </tr>\n",
       "    <tr>\n",
       "      <th>343136</th>\n",
       "      <td>2443347</td>\n",
       "      <td>465784886_73090545671</td>\n",
       "      <td>136329900_10529659391_316129</td>\n",
       "      <td>confirm</td>\n",
       "      <td>2017-03-31 15:15:46</td>\n",
       "    </tr>\n",
       "    <tr>\n",
       "      <th>343137</th>\n",
       "      <td>2443347</td>\n",
       "      <td>465784886_73090545671</td>\n",
       "      <td>136329900_10529659391_316129</td>\n",
       "      <td>step_3</td>\n",
       "      <td>2017-03-31 15:14:53</td>\n",
       "    </tr>\n",
       "    <tr>\n",
       "      <th>343138</th>\n",
       "      <td>2443347</td>\n",
       "      <td>465784886_73090545671</td>\n",
       "      <td>136329900_10529659391_316129</td>\n",
       "      <td>step_2</td>\n",
       "      <td>2017-03-31 15:12:08</td>\n",
       "    </tr>\n",
       "    <tr>\n",
       "      <th>343139</th>\n",
       "      <td>2443347</td>\n",
       "      <td>465784886_73090545671</td>\n",
       "      <td>136329900_10529659391_316129</td>\n",
       "      <td>step_1</td>\n",
       "      <td>2017-03-31 15:11:37</td>\n",
       "    </tr>\n",
       "    <tr>\n",
       "      <th>343140</th>\n",
       "      <td>2443347</td>\n",
       "      <td>465784886_73090545671</td>\n",
       "      <td>136329900_10529659391_316129</td>\n",
       "      <td>start</td>\n",
       "      <td>2017-03-31 15:10:47</td>\n",
       "    </tr>\n",
       "  </tbody>\n",
       "</table>\n",
       "<p>343141 rows × 5 columns</p>\n",
       "</div>"
      ],
      "text/plain": [
       "        client_id             visitor_id                      visit_id  \\\n",
       "0         9988021   580560515_7732621733  781255054_21935453173_531117   \n",
       "1         9988021   580560515_7732621733  781255054_21935453173_531117   \n",
       "2         9988021   580560515_7732621733  781255054_21935453173_531117   \n",
       "3         9988021   580560515_7732621733  781255054_21935453173_531117   \n",
       "4         9988021   580560515_7732621733  781255054_21935453173_531117   \n",
       "...           ...                    ...                           ...   \n",
       "343136    2443347  465784886_73090545671  136329900_10529659391_316129   \n",
       "343137    2443347  465784886_73090545671  136329900_10529659391_316129   \n",
       "343138    2443347  465784886_73090545671  136329900_10529659391_316129   \n",
       "343139    2443347  465784886_73090545671  136329900_10529659391_316129   \n",
       "343140    2443347  465784886_73090545671  136329900_10529659391_316129   \n",
       "\n",
       "       process_step            date_time  \n",
       "0            step_3  2017-04-17 15:27:07  \n",
       "1            step_2  2017-04-17 15:26:51  \n",
       "2            step_3  2017-04-17 15:19:22  \n",
       "3            step_2  2017-04-17 15:19:13  \n",
       "4            step_3  2017-04-17 15:18:04  \n",
       "...             ...                  ...  \n",
       "343136      confirm  2017-03-31 15:15:46  \n",
       "343137       step_3  2017-03-31 15:14:53  \n",
       "343138       step_2  2017-03-31 15:12:08  \n",
       "343139       step_1  2017-03-31 15:11:37  \n",
       "343140        start  2017-03-31 15:10:47  \n",
       "\n",
       "[343141 rows x 5 columns]"
      ]
     },
     "execution_count": 11,
     "metadata": {},
     "output_type": "execute_result"
    }
   ],
   "source": [
    "df_final_web_data_pt_1"
   ]
  },
  {
   "cell_type": "code",
   "execution_count": null,
   "metadata": {},
   "outputs": [],
   "source": [
    "# year, month, day"
   ]
  },
  {
   "cell_type": "markdown",
   "metadata": {},
   "source": [
    "### DF Final Web Data Pt 2"
   ]
  },
  {
   "cell_type": "code",
   "execution_count": 12,
   "metadata": {},
   "outputs": [
    {
     "data": {
      "application/vnd.microsoft.datawrangler.viewer.v0+json": {
       "columns": [
        {
         "name": "index",
         "rawType": "int64",
         "type": "integer"
        },
        {
         "name": "client_id",
         "rawType": "int64",
         "type": "integer"
        },
        {
         "name": "visitor_id",
         "rawType": "object",
         "type": "string"
        },
        {
         "name": "visit_id",
         "rawType": "object",
         "type": "string"
        },
        {
         "name": "process_step",
         "rawType": "object",
         "type": "string"
        },
        {
         "name": "date_time",
         "rawType": "object",
         "type": "string"
        }
       ],
       "conversionMethod": "pd.DataFrame",
       "ref": "95ba4a8a-af97-4d67-bad2-0457621670db",
       "rows": [
        [
         "0",
         "763412",
         "601952081_10457207388",
         "397475557_40440946728_419634",
         "confirm",
         "2017-06-06 08:56:00"
        ],
        [
         "1",
         "6019349",
         "442094451_91531546617",
         "154620534_35331068705_522317",
         "confirm",
         "2017-06-01 11:59:27"
        ],
        [
         "2",
         "6019349",
         "442094451_91531546617",
         "154620534_35331068705_522317",
         "step_3",
         "2017-06-01 11:58:48"
        ],
        [
         "3",
         "6019349",
         "442094451_91531546617",
         "154620534_35331068705_522317",
         "step_2",
         "2017-06-01 11:58:08"
        ],
        [
         "4",
         "6019349",
         "442094451_91531546617",
         "154620534_35331068705_522317",
         "step_1",
         "2017-06-01 11:57:58"
        ],
        [
         "5",
         "6019349",
         "442094451_91531546617",
         "154620534_35331068705_522317",
         "start",
         "2017-06-01 11:57:54"
        ],
        [
         "6",
         "4726500",
         "934350987_45569789638",
         "467318052_88159801968_565608",
         "confirm",
         "2017-06-05 17:38:52"
        ],
        [
         "7",
         "4726500",
         "934350987_45569789638",
         "467318052_88159801968_565608",
         "step_3",
         "2017-06-05 17:38:33"
        ],
        [
         "8",
         "4726500",
         "934350987_45569789638",
         "467318052_88159801968_565608",
         "step_2",
         "2017-06-05 17:37:31"
        ],
        [
         "9",
         "4726500",
         "934350987_45569789638",
         "467318052_88159801968_565608",
         "step_1",
         "2017-06-05 17:37:24"
        ],
        [
         "10",
         "4726500",
         "934350987_45569789638",
         "467318052_88159801968_565608",
         "start",
         "2017-06-05 17:37:16"
        ],
        [
         "11",
         "2604484",
         "403124303_66054292858",
         "839120079_63294408771_355112",
         "confirm",
         "2017-06-05 17:13:38"
        ],
        [
         "12",
         "9723244",
         "159724599_74688076986",
         "246088042_56009027918_726234",
         "confirm",
         "2017-06-01 15:04:09"
        ],
        [
         "13",
         "4757483",
         "368845273_83104011691",
         "577583395_82876359150_125129",
         "confirm",
         "2017-06-01 15:02:21"
        ],
        [
         "14",
         "9723244",
         "159724599_74688076986",
         "246088042_56009027918_726234",
         "step_3",
         "2017-06-01 15:02:13"
        ],
        [
         "15",
         "4757483",
         "368845273_83104011691",
         "577583395_82876359150_125129",
         "step_3",
         "2017-06-01 15:01:48"
        ],
        [
         "16",
         "4757483",
         "368845273_83104011691",
         "577583395_82876359150_125129",
         "step_2",
         "2017-06-01 15:00:41"
        ],
        [
         "17",
         "9723244",
         "159724599_74688076986",
         "246088042_56009027918_726234",
         "step_2",
         "2017-06-01 15:00:40"
        ],
        [
         "18",
         "9723244",
         "159724599_74688076986",
         "246088042_56009027918_726234",
         "step_1",
         "2017-06-01 15:00:25"
        ],
        [
         "19",
         "9723244",
         "159724599_74688076986",
         "246088042_56009027918_726234",
         "start",
         "2017-06-01 15:00:22"
        ],
        [
         "20",
         "4757483",
         "368845273_83104011691",
         "577583395_82876359150_125129",
         "step_1",
         "2017-06-01 15:00:21"
        ],
        [
         "21",
         "4757483",
         "368845273_83104011691",
         "577583395_82876359150_125129",
         "start",
         "2017-06-01 15:00:12"
        ],
        [
         "22",
         "8932927",
         "485163175_18149554449",
         "103652948_14625127290_455632",
         "step_3",
         "2017-05-10 20:15:35"
        ],
        [
         "23",
         "8932927",
         "485163175_18149554449",
         "103652948_14625127290_455632",
         "step_2",
         "2017-05-10 20:13:54"
        ],
        [
         "24",
         "8932927",
         "485163175_18149554449",
         "103652948_14625127290_455632",
         "step_1",
         "2017-05-10 20:07:53"
        ],
        [
         "25",
         "9462890",
         "285545980_42239038231",
         "789355073_26110529122_413761",
         "confirm",
         "2017-06-12 12:28:28"
        ],
        [
         "26",
         "8712791",
         "810751851_50651722357",
         "201285181_54062386555_293858",
         "confirm",
         "2017-06-07 17:52:53"
        ],
        [
         "27",
         "8712791",
         "810751851_50651722357",
         "201285181_54062386555_293858",
         "confirm",
         "2017-06-07 17:47:35"
        ],
        [
         "28",
         "8712791",
         "810751851_50651722357",
         "201285181_54062386555_293858",
         "step_3",
         "2017-06-07 17:46:45"
        ],
        [
         "29",
         "8712791",
         "810751851_50651722357",
         "201285181_54062386555_293858",
         "step_2",
         "2017-06-07 17:45:45"
        ],
        [
         "30",
         "8712791",
         "810751851_50651722357",
         "201285181_54062386555_293858",
         "step_1",
         "2017-06-07 17:45:12"
        ],
        [
         "31",
         "8712791",
         "810751851_50651722357",
         "201285181_54062386555_293858",
         "start",
         "2017-06-07 17:45:08"
        ],
        [
         "32",
         "1338778",
         "696747226_43654658167",
         "169900933_72177377277_730026",
         "step_2",
         "2017-05-10 14:49:44"
        ],
        [
         "33",
         "1338778",
         "696747226_43654658167",
         "169900933_72177377277_730026",
         "step_1",
         "2017-05-10 14:49:41"
        ],
        [
         "34",
         "1338778",
         "696747226_43654658167",
         "169900933_72177377277_730026",
         "step_2",
         "2017-05-10 14:47:24"
        ],
        [
         "35",
         "1338778",
         "696747226_43654658167",
         "169900933_72177377277_730026",
         "step_1",
         "2017-05-10 14:47:08"
        ],
        [
         "36",
         "1338778",
         "696747226_43654658167",
         "169900933_72177377277_730026",
         "start",
         "2017-05-10 14:46:58"
        ],
        [
         "37",
         "196135",
         "36187141_51663781159",
         "459921790_55624327518_797235",
         "step_3",
         "2017-06-07 13:27:00"
        ],
        [
         "38",
         "196135",
         "36187141_51663781159",
         "459921790_55624327518_797235",
         "step_3",
         "2017-06-07 13:10:49"
        ],
        [
         "39",
         "196135",
         "36187141_51663781159",
         "459921790_55624327518_797235",
         "step_3",
         "2017-06-07 12:54:45"
        ],
        [
         "40",
         "9654896",
         "466845281_87308647515",
         "32486348_98643925240_889573",
         "step_1",
         "2017-06-07 12:39:42"
        ],
        [
         "41",
         "9654896",
         "466845281_87308647515",
         "32486348_98643925240_889573",
         "start",
         "2017-06-07 12:39:36"
        ],
        [
         "42",
         "196135",
         "36187141_51663781159",
         "459921790_55624327518_797235",
         "step_3",
         "2017-06-07 12:38:40"
        ],
        [
         "43",
         "196135",
         "36187141_51663781159",
         "459921790_55624327518_797235",
         "step_2",
         "2017-06-07 12:36:42"
        ],
        [
         "44",
         "196135",
         "36187141_51663781159",
         "459921790_55624327518_797235",
         "step_1",
         "2017-06-07 12:36:22"
        ],
        [
         "45",
         "196135",
         "36187141_51663781159",
         "459921790_55624327518_797235",
         "start",
         "2017-06-07 12:36:15"
        ],
        [
         "46",
         "196135",
         "36187141_51663781159",
         "459921790_55624327518_797235",
         "start",
         "2017-06-07 12:33:25"
        ],
        [
         "47",
         "5169372",
         "913893971_31925447393",
         "620693667_38482658584_515526",
         "confirm",
         "2017-06-04 21:26:06"
        ],
        [
         "48",
         "5267250",
         "775527297_1115742340",
         "925383636_42107216096_372443",
         "start",
         "2017-05-22 13:53:10"
        ],
        [
         "49",
         "1338778",
         "931886528_99694167077",
         "817784499_33991731960_990073",
         "confirm",
         "2017-06-11 12:38:21"
        ]
       ],
       "shape": {
        "columns": 5,
        "rows": 412264
       }
      },
      "text/html": [
       "<div>\n",
       "<style scoped>\n",
       "    .dataframe tbody tr th:only-of-type {\n",
       "        vertical-align: middle;\n",
       "    }\n",
       "\n",
       "    .dataframe tbody tr th {\n",
       "        vertical-align: top;\n",
       "    }\n",
       "\n",
       "    .dataframe thead th {\n",
       "        text-align: right;\n",
       "    }\n",
       "</style>\n",
       "<table border=\"1\" class=\"dataframe\">\n",
       "  <thead>\n",
       "    <tr style=\"text-align: right;\">\n",
       "      <th></th>\n",
       "      <th>client_id</th>\n",
       "      <th>visitor_id</th>\n",
       "      <th>visit_id</th>\n",
       "      <th>process_step</th>\n",
       "      <th>date_time</th>\n",
       "    </tr>\n",
       "  </thead>\n",
       "  <tbody>\n",
       "    <tr>\n",
       "      <th>0</th>\n",
       "      <td>763412</td>\n",
       "      <td>601952081_10457207388</td>\n",
       "      <td>397475557_40440946728_419634</td>\n",
       "      <td>confirm</td>\n",
       "      <td>2017-06-06 08:56:00</td>\n",
       "    </tr>\n",
       "    <tr>\n",
       "      <th>1</th>\n",
       "      <td>6019349</td>\n",
       "      <td>442094451_91531546617</td>\n",
       "      <td>154620534_35331068705_522317</td>\n",
       "      <td>confirm</td>\n",
       "      <td>2017-06-01 11:59:27</td>\n",
       "    </tr>\n",
       "    <tr>\n",
       "      <th>2</th>\n",
       "      <td>6019349</td>\n",
       "      <td>442094451_91531546617</td>\n",
       "      <td>154620534_35331068705_522317</td>\n",
       "      <td>step_3</td>\n",
       "      <td>2017-06-01 11:58:48</td>\n",
       "    </tr>\n",
       "    <tr>\n",
       "      <th>3</th>\n",
       "      <td>6019349</td>\n",
       "      <td>442094451_91531546617</td>\n",
       "      <td>154620534_35331068705_522317</td>\n",
       "      <td>step_2</td>\n",
       "      <td>2017-06-01 11:58:08</td>\n",
       "    </tr>\n",
       "    <tr>\n",
       "      <th>4</th>\n",
       "      <td>6019349</td>\n",
       "      <td>442094451_91531546617</td>\n",
       "      <td>154620534_35331068705_522317</td>\n",
       "      <td>step_1</td>\n",
       "      <td>2017-06-01 11:57:58</td>\n",
       "    </tr>\n",
       "    <tr>\n",
       "      <th>...</th>\n",
       "      <td>...</td>\n",
       "      <td>...</td>\n",
       "      <td>...</td>\n",
       "      <td>...</td>\n",
       "      <td>...</td>\n",
       "    </tr>\n",
       "    <tr>\n",
       "      <th>412259</th>\n",
       "      <td>9668240</td>\n",
       "      <td>388766751_9038881013</td>\n",
       "      <td>922267647_3096648104_968866</td>\n",
       "      <td>start</td>\n",
       "      <td>2017-05-24 18:46:10</td>\n",
       "    </tr>\n",
       "    <tr>\n",
       "      <th>412260</th>\n",
       "      <td>9668240</td>\n",
       "      <td>388766751_9038881013</td>\n",
       "      <td>922267647_3096648104_968866</td>\n",
       "      <td>start</td>\n",
       "      <td>2017-05-24 18:45:29</td>\n",
       "    </tr>\n",
       "    <tr>\n",
       "      <th>412261</th>\n",
       "      <td>9668240</td>\n",
       "      <td>388766751_9038881013</td>\n",
       "      <td>922267647_3096648104_968866</td>\n",
       "      <td>step_1</td>\n",
       "      <td>2017-05-24 18:44:51</td>\n",
       "    </tr>\n",
       "    <tr>\n",
       "      <th>412262</th>\n",
       "      <td>9668240</td>\n",
       "      <td>388766751_9038881013</td>\n",
       "      <td>922267647_3096648104_968866</td>\n",
       "      <td>start</td>\n",
       "      <td>2017-05-24 18:44:34</td>\n",
       "    </tr>\n",
       "    <tr>\n",
       "      <th>412263</th>\n",
       "      <td>674799</td>\n",
       "      <td>947159805_81558194550</td>\n",
       "      <td>86152093_47511127657_716022</td>\n",
       "      <td>start</td>\n",
       "      <td>2017-06-03 12:17:09</td>\n",
       "    </tr>\n",
       "  </tbody>\n",
       "</table>\n",
       "<p>412264 rows × 5 columns</p>\n",
       "</div>"
      ],
      "text/plain": [
       "        client_id             visitor_id                      visit_id  \\\n",
       "0          763412  601952081_10457207388  397475557_40440946728_419634   \n",
       "1         6019349  442094451_91531546617  154620534_35331068705_522317   \n",
       "2         6019349  442094451_91531546617  154620534_35331068705_522317   \n",
       "3         6019349  442094451_91531546617  154620534_35331068705_522317   \n",
       "4         6019349  442094451_91531546617  154620534_35331068705_522317   \n",
       "...           ...                    ...                           ...   \n",
       "412259    9668240   388766751_9038881013   922267647_3096648104_968866   \n",
       "412260    9668240   388766751_9038881013   922267647_3096648104_968866   \n",
       "412261    9668240   388766751_9038881013   922267647_3096648104_968866   \n",
       "412262    9668240   388766751_9038881013   922267647_3096648104_968866   \n",
       "412263     674799  947159805_81558194550   86152093_47511127657_716022   \n",
       "\n",
       "       process_step            date_time  \n",
       "0           confirm  2017-06-06 08:56:00  \n",
       "1           confirm  2017-06-01 11:59:27  \n",
       "2            step_3  2017-06-01 11:58:48  \n",
       "3            step_2  2017-06-01 11:58:08  \n",
       "4            step_1  2017-06-01 11:57:58  \n",
       "...             ...                  ...  \n",
       "412259        start  2017-05-24 18:46:10  \n",
       "412260        start  2017-05-24 18:45:29  \n",
       "412261       step_1  2017-05-24 18:44:51  \n",
       "412262        start  2017-05-24 18:44:34  \n",
       "412263        start  2017-06-03 12:17:09  \n",
       "\n",
       "[412264 rows x 5 columns]"
      ]
     },
     "execution_count": 12,
     "metadata": {},
     "output_type": "execute_result"
    }
   ],
   "source": [
    "df_final_web_data_pt_2 "
   ]
  },
  {
   "cell_type": "code",
   "execution_count": null,
   "metadata": {},
   "outputs": [],
   "source": [
    "# year, month, day"
   ]
  },
  {
   "cell_type": "code",
   "execution_count": null,
   "metadata": {},
   "outputs": [],
   "source": []
  }
 ],
 "metadata": {
  "kernelspec": {
   "display_name": "base",
   "language": "python",
   "name": "python3"
  },
  "language_info": {
   "codemirror_mode": {
    "name": "ipython",
    "version": 3
   },
   "file_extension": ".py",
   "mimetype": "text/x-python",
   "name": "python",
   "nbconvert_exporter": "python",
   "pygments_lexer": "ipython3",
   "version": "3.12.3"
  }
 },
 "nbformat": 4,
 "nbformat_minor": 2
}
